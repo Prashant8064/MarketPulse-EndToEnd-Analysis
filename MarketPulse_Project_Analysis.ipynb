{
  "nbformat": 4,
  "nbformat_minor": 0,
  "metadata": {
    "colab": {
      "provenance": []
    },
    "kernelspec": {
      "name": "python3",
      "display_name": "Python 3"
    },
    "language_info": {
      "name": "python"
    }
  },
  "cells": [
    {
      "cell_type": "code",
      "execution_count": 17,
      "metadata": {
        "colab": {
          "base_uri": "https://localhost:8080/"
        },
        "id": "_8kA8BC0NHFv",
        "outputId": "7f7a661f-e33d-425d-e3fa-7c4b438a6016"
      },
      "outputs": [
        {
          "output_type": "stream",
          "name": "stdout",
          "text": [
            "Installing necessary libraries... Please wait.\n",
            "All libraries installed successfully!\n",
            "The rpy2.ipython extension is already loaded. To reload it, use:\n",
            "  %reload_ext rpy2.ipython\n",
            "Setup complete. You can now proceed with the project.\n"
          ]
        }
      ],
      "source": [
        "# ==============================================================================\n",
        "# STEP 0: ENVIRONMENT SETUP & LIBRARIES INSTALLATION\n",
        "# ==============================================================================\n",
        "# First, we will install all the necessary libraries.\n",
        "# This cell needs to be run only once.\n",
        "\n",
        "print(\"Installing necessary libraries... Please wait.\")\n",
        "!pip install pyspark -q\n",
        "!pip install rpy2 -q\n",
        "!pip install plotly -q\n",
        "!pip install xgboost -q\n",
        "!pip install beautifulsoup4 -q\n",
        "!pip install requests -q\n",
        "print(\"All libraries installed successfully!\")\n",
        "\n",
        "# Import the libraries\n",
        "import pandas as pd\n",
        "import numpy as np\n",
        "import plotly.express as px\n",
        "import plotly.graph_objects as go\n",
        "from sklearn.model_selection import train_test_split\n",
        "from sklearn.metrics import mean_absolute_error, r2_score\n",
        "import xgboost as xgb\n",
        "import os\n",
        "\n",
        "# Enable the R magic command for Colab\n",
        "%load_ext rpy2.ipython\n",
        "\n",
        "print(\"Setup complete. You can now proceed with the project.\")"
      ]
    },
    {
      "cell_type": "code",
      "source": [
        "# ==============================================================================\n",
        "# STEP 1: CONNECTING GOOGLE DRIVE TO COLAB\n",
        "# ==============================================================================\n",
        "# It's a best practice to keep our data in Google Drive.\n",
        "# This ensures that the data remains safe even if the Colab session expires.\n",
        "\n",
        "from google.colab import drive\n",
        "drive.mount('/content/drive')\n",
        "\n",
        "# IMPORTANT: Upload your 'sales_data.csv' file to your Google Drive\n",
        "# and provide the correct path here. For example:\n",
        "# '/content/drive/My Drive/Colab Notebooks/Project_MarketPulse/sales_data.csv'\n",
        "file_path = '/content/drive/MyDrive/sales_data.csv' # <-- CHANGE YOUR PATH HERE\n",
        "\n",
        "# Check if the file exists at the specified path\n",
        "if os.path.exists(file_path):\n",
        "    print(f\"File found at: {file_path}\")\n",
        "else:\n",
        "    print(f\"ERROR: File not found at the specified path. Please check the path and upload the file.\")"
      ],
      "metadata": {
        "colab": {
          "base_uri": "https://localhost:8080/"
        },
        "id": "6u_E636fRutt",
        "outputId": "c6ae0281-8c62-438b-8ea5-c168766dabb8"
      },
      "execution_count": 18,
      "outputs": [
        {
          "output_type": "stream",
          "name": "stdout",
          "text": [
            "Drive already mounted at /content/drive; to attempt to forcibly remount, call drive.mount(\"/content/drive\", force_remount=True).\n",
            "ERROR: File not found at the specified path. Please check the path and upload the file.\n"
          ]
        }
      ]
    },
    {
      "cell_type": "code",
      "source": [
        "# ==============================================================================\n",
        "# STEP 2: LOADING AND UNDERSTANDING THE HISTORICAL SALES DATA\n",
        "# ==============================================================================\n",
        "# We will load our historical sales CSV file into a Pandas DataFrame.\n",
        "\n",
        "df = pd.read_csv(\"/content/drive/MyDrive/indian_ecommerce_sales.csv\")\n",
        "\n",
        "print(\"Data loaded successfully. Here are the first 5 rows:\")\n",
        "print(df.head())\n",
        "\n",
        "print(\"\\nBasic information about the dataset:\")\n",
        "df.info()\n",
        "\n",
        "print(\"\\nStatistical summary of the dataset:\")\n",
        "print(df.describe())"
      ],
      "metadata": {
        "colab": {
          "base_uri": "https://localhost:8080/"
        },
        "id": "JFDlW7euRzgD",
        "outputId": "63c46255-72e2-4f37-8f09-bbe807cb6b75"
      },
      "execution_count": 20,
      "outputs": [
        {
          "output_type": "stream",
          "name": "stdout",
          "text": [
            "Data loaded successfully. Here are the first 5 rows:\n",
            "         Date  OrderID ProductID            ProductName        Category  \\\n",
            "0  2024-10-16  ORD1001    PID214     Ceramic Dinner Set  Home & Kitchen   \n",
            "1  2023-04-25  ORD1002    PID241     Children Storybook           Books   \n",
            "2  2023-01-26  ORD1003    PID208  Bamboo Chopping Board  Home & Kitchen   \n",
            "3  2023-10-09  ORD1004    PID230           Pixel Tablet     Electronics   \n",
            "4  2023-09-08  ORD1005    PID214     Ceramic Dinner Set  Home & Kitchen   \n",
            "\n",
            "   UnitsSold  PricePerUnit_INR  DiscountPercentage   Region  \n",
            "0          2          10669.55                  13  Kolkata  \n",
            "1          4           1301.67                  32  Kolkata  \n",
            "2          4           3882.84                  15  Chennai  \n",
            "3         11          20124.94                  36    Delhi  \n",
            "4          1          13851.46                   0  Chennai  \n",
            "\n",
            "Basic information about the dataset:\n",
            "<class 'pandas.core.frame.DataFrame'>\n",
            "RangeIndex: 1000 entries, 0 to 999\n",
            "Data columns (total 9 columns):\n",
            " #   Column              Non-Null Count  Dtype  \n",
            "---  ------              --------------  -----  \n",
            " 0   Date                1000 non-null   object \n",
            " 1   OrderID             1000 non-null   object \n",
            " 2   ProductID           1000 non-null   object \n",
            " 3   ProductName         1000 non-null   object \n",
            " 4   Category            1000 non-null   object \n",
            " 5   UnitsSold           1000 non-null   int64  \n",
            " 6   PricePerUnit_INR    1000 non-null   float64\n",
            " 7   DiscountPercentage  1000 non-null   int64  \n",
            " 8   Region              1000 non-null   object \n",
            "dtypes: float64(1), int64(2), object(6)\n",
            "memory usage: 70.4+ KB\n",
            "\n",
            "Statistical summary of the dataset:\n",
            "         UnitsSold  PricePerUnit_INR  DiscountPercentage\n",
            "count  1000.000000       1000.000000         1000.000000\n",
            "mean      4.405000      19099.112010            9.234000\n",
            "std       2.212209      23271.230337           12.777813\n",
            "min       1.000000        307.330000            0.000000\n",
            "25%       3.000000       1362.145000            0.000000\n",
            "50%       4.000000       7446.365000            0.000000\n",
            "75%       6.000000      32969.660000           18.000000\n",
            "max      13.000000      79956.150000           40.000000\n"
          ]
        }
      ]
    },
    {
      "cell_type": "code",
      "source": [
        "# ==============================================================================\n",
        "# STEP 2: HISTORICAL SALES DATA LOAD KARNA AUR USKO SAMJHNA\n",
        "# ==============================================================================\n",
        "# Hum apni historical sales CSV file ko Pandas DataFrame mein load karenge.\n",
        "\n",
        "df = pd.read_csv(file_path)\n",
        "\n",
        "print(\"Data loaded successfully. Here are the first 5 rows:\")\n",
        "print(df.head())\n",
        "\n",
        "print(\"\\nDataset ki basic information:\")\n",
        "df.info()\n",
        "\n",
        "print(\"\\nDataset ki statistical summary:\")\n",
        "print(df.describe())"
      ],
      "metadata": {
        "colab": {
          "base_uri": "https://localhost:8080/"
        },
        "id": "cr1JDOsLOuIA",
        "outputId": "3b393fdb-ba47-4163-94e8-5e15d2c4bc31"
      },
      "execution_count": 4,
      "outputs": [
        {
          "output_type": "stream",
          "name": "stdout",
          "text": [
            "Data loaded successfully. Here are the first 5 rows:\n",
            "         Date  OrderID ProductID            ProductName        Category  \\\n",
            "0  2024-10-16  ORD1001    PID214     Ceramic Dinner Set  Home & Kitchen   \n",
            "1  2023-04-25  ORD1002    PID241     Children Storybook           Books   \n",
            "2  2023-01-26  ORD1003    PID208  Bamboo Chopping Board  Home & Kitchen   \n",
            "3  2023-10-09  ORD1004    PID230           Pixel Tablet     Electronics   \n",
            "4  2023-09-08  ORD1005    PID214     Ceramic Dinner Set  Home & Kitchen   \n",
            "\n",
            "   UnitsSold  PricePerUnit_INR  DiscountPercentage   Region  \n",
            "0          2          10669.55                  13  Kolkata  \n",
            "1          4           1301.67                  32  Kolkata  \n",
            "2          4           3882.84                  15  Chennai  \n",
            "3         11          20124.94                  36    Delhi  \n",
            "4          1          13851.46                   0  Chennai  \n",
            "\n",
            "Dataset ki basic information:\n",
            "<class 'pandas.core.frame.DataFrame'>\n",
            "RangeIndex: 1000 entries, 0 to 999\n",
            "Data columns (total 9 columns):\n",
            " #   Column              Non-Null Count  Dtype  \n",
            "---  ------              --------------  -----  \n",
            " 0   Date                1000 non-null   object \n",
            " 1   OrderID             1000 non-null   object \n",
            " 2   ProductID           1000 non-null   object \n",
            " 3   ProductName         1000 non-null   object \n",
            " 4   Category            1000 non-null   object \n",
            " 5   UnitsSold           1000 non-null   int64  \n",
            " 6   PricePerUnit_INR    1000 non-null   float64\n",
            " 7   DiscountPercentage  1000 non-null   int64  \n",
            " 8   Region              1000 non-null   object \n",
            "dtypes: float64(1), int64(2), object(6)\n",
            "memory usage: 70.4+ KB\n",
            "\n",
            "Dataset ki statistical summary:\n",
            "         UnitsSold  PricePerUnit_INR  DiscountPercentage\n",
            "count  1000.000000       1000.000000         1000.000000\n",
            "mean      4.405000      19099.112010            9.234000\n",
            "std       2.212209      23271.230337           12.777813\n",
            "min       1.000000        307.330000            0.000000\n",
            "25%       3.000000       1362.145000            0.000000\n",
            "50%       4.000000       7446.365000            0.000000\n",
            "75%       6.000000      32969.660000           18.000000\n",
            "max      13.000000      79956.150000           40.000000\n"
          ]
        }
      ]
    },
    {
      "cell_type": "code",
      "source": [
        "# ==============================================================================\n",
        "# STEP 3: DATA CLEANING AND PREPROCESSING\n",
        "# ==============================================================================\n",
        "# For a data analyst, this is the most critical step.\n",
        "\n",
        "# 1. Checking for Null values\n",
        "print(\"\\nChecking for Null Values:\")\n",
        "print(df.isnull().sum())\n",
        "# If there were any null values, we would fill or drop them, for example:\n",
        "# df.dropna(inplace=True)\n",
        "\n",
        "# 2. Correcting the data type of the 'Date' column (from object to datetime)\n",
        "print(\"\\nConverting 'Date' column to datetime format...\")\n",
        "df['Date'] = pd.to_datetime(df['Date'])\n",
        "\n",
        "# 3. Creating New Features (Feature Engineering) - This makes the model smarter\n",
        "df['Year'] = df['Date'].dt.year\n",
        "df['Month'] = df['Date'].dt.month\n",
        "df['Day'] = df['Date'].dt.day\n",
        "df['Weekday'] = df['Date'].dt.day_name()\n",
        "df['SaleAmount'] = df['UnitsSold'] * df['PricePerUnit_INR'] * (1 - df['DiscountPercentage']/100)\n",
        "\n",
        "print(\"\\nData after cleaning and feature engineering:\")\n",
        "print(df.head())"
      ],
      "metadata": {
        "colab": {
          "base_uri": "https://localhost:8080/"
        },
        "id": "O8sylM3BSvfA",
        "outputId": "19095889-97a3-4101-dba1-99559efbf27e"
      },
      "execution_count": 21,
      "outputs": [
        {
          "output_type": "stream",
          "name": "stdout",
          "text": [
            "\n",
            "Checking for Null Values:\n",
            "Date                  0\n",
            "OrderID               0\n",
            "ProductID             0\n",
            "ProductName           0\n",
            "Category              0\n",
            "UnitsSold             0\n",
            "PricePerUnit_INR      0\n",
            "DiscountPercentage    0\n",
            "Region                0\n",
            "dtype: int64\n",
            "\n",
            "Converting 'Date' column to datetime format...\n",
            "\n",
            "Data after cleaning and feature engineering:\n",
            "        Date  OrderID ProductID            ProductName        Category  \\\n",
            "0 2024-10-16  ORD1001    PID214     Ceramic Dinner Set  Home & Kitchen   \n",
            "1 2023-04-25  ORD1002    PID241     Children Storybook           Books   \n",
            "2 2023-01-26  ORD1003    PID208  Bamboo Chopping Board  Home & Kitchen   \n",
            "3 2023-10-09  ORD1004    PID230           Pixel Tablet     Electronics   \n",
            "4 2023-09-08  ORD1005    PID214     Ceramic Dinner Set  Home & Kitchen   \n",
            "\n",
            "   UnitsSold  PricePerUnit_INR  DiscountPercentage   Region  Year  Month  Day  \\\n",
            "0          2          10669.55                  13  Kolkata  2024     10   16   \n",
            "1          4           1301.67                  32  Kolkata  2023      4   25   \n",
            "2          4           3882.84                  15  Chennai  2023      1   26   \n",
            "3         11          20124.94                  36    Delhi  2023     10    9   \n",
            "4          1          13851.46                   0  Chennai  2023      9    8   \n",
            "\n",
            "     Weekday   SaleAmount  \n",
            "0  Wednesday   18565.0170  \n",
            "1    Tuesday    3540.5424  \n",
            "2   Thursday   13201.6560  \n",
            "3     Monday  141679.5776  \n",
            "4     Friday   13851.4600  \n"
          ]
        }
      ]
    },
    {
      "cell_type": "code",
      "source": [
        "# ==============================================================================\n",
        "# STEP 4: EXPLORATORY DATA ANALYSIS (EDA) - EXTRACTING INSIGHTS\n",
        "# ==============================================================================\n",
        "# Now, we will find patterns and trends from the data using interactive charts.\n",
        "\n",
        "# 1. Monthly Sales Trend\n",
        "monthly_sales = df.groupby(df['Date'].dt.to_period('M'))['SaleAmount'].sum().reset_index()\n",
        "monthly_sales['Date'] = monthly_sales['Date'].dt.to_timestamp()\n",
        "fig1 = px.line(monthly_sales, x='Date', y='SaleAmount', title='Monthly Sales Trend', labels={'Date':'Month', 'SaleAmount':'Total Sales (INR)'})\n",
        "fig1.show()\n",
        "\n",
        "# 2. Sales by Category\n",
        "category_sales = df.groupby('Category')['SaleAmount'].sum().reset_index().sort_values(by='SaleAmount', ascending=False)\n",
        "fig2 = px.bar(category_sales, x='Category', y='SaleAmount', title='Total Sales by Product Category', text_auto='.2s')\n",
        "fig2.show()\n",
        "\n",
        "# 3. Effect of Discount on Sales (Visual Analysis)\n",
        "fig3 = px.scatter(df, x='DiscountPercentage', y='UnitsSold', title='Discount Percentage vs. Units Sold',\n",
        "                  labels={'DiscountPercentage':'Discount (%)', 'UnitsSold':'Units Sold'},\n",
        "                  trendline=\"ols\", # This adds a regression trend line\n",
        "                  color='Category')\n",
        "fig3.show()\n",
        "print(\"In the scatter plot above, you can see that as the discount increases, the trend for Units Sold also goes up.\")"
      ],
      "metadata": {
        "colab": {
          "base_uri": "https://localhost:8080/",
          "height": 1000
        },
        "id": "qZkQP7FhS0or",
        "outputId": "74395914-7755-419f-d5c0-9b10956ad56a"
      },
      "execution_count": 22,
      "outputs": [
        {
          "output_type": "display_data",
          "data": {
            "text/html": [
              "<html>\n",
              "<head><meta charset=\"utf-8\" /></head>\n",
              "<body>\n",
              "    <div>            <script src=\"https://cdnjs.cloudflare.com/ajax/libs/mathjax/2.7.5/MathJax.js?config=TeX-AMS-MML_SVG\"></script><script type=\"text/javascript\">if (window.MathJax && window.MathJax.Hub && window.MathJax.Hub.Config) {window.MathJax.Hub.Config({SVG: {font: \"STIX-Web\"}});}</script>                <script type=\"text/javascript\">window.PlotlyConfig = {MathJaxConfig: 'local'};</script>\n",
              "        <script charset=\"utf-8\" src=\"https://cdn.plot.ly/plotly-2.35.2.min.js\"></script>                <div id=\"020c20e0-0946-495b-8648-1ec0ee918ca7\" class=\"plotly-graph-div\" style=\"height:525px; width:100%;\"></div>            <script type=\"text/javascript\">                                    window.PLOTLYENV=window.PLOTLYENV || {};                                    if (document.getElementById(\"020c20e0-0946-495b-8648-1ec0ee918ca7\")) {                    Plotly.newPlot(                        \"020c20e0-0946-495b-8648-1ec0ee918ca7\",                        [{\"hovertemplate\":\"Month=%{x}\\u003cbr\\u003eTotal Sales (INR)=%{y}\\u003cextra\\u003e\\u003c\\u002fextra\\u003e\",\"legendgroup\":\"\",\"line\":{\"color\":\"#636efa\",\"dash\":\"solid\"},\"marker\":{\"symbol\":\"circle\"},\"mode\":\"lines\",\"name\":\"\",\"orientation\":\"v\",\"showlegend\":false,\"x\":[\"2023-01-01T00:00:00\",\"2023-02-01T00:00:00\",\"2023-03-01T00:00:00\",\"2023-04-01T00:00:00\",\"2023-05-01T00:00:00\",\"2023-06-01T00:00:00\",\"2023-07-01T00:00:00\",\"2023-08-01T00:00:00\",\"2023-09-01T00:00:00\",\"2023-10-01T00:00:00\",\"2023-11-01T00:00:00\",\"2023-12-01T00:00:00\",\"2024-01-01T00:00:00\",\"2024-02-01T00:00:00\",\"2024-03-01T00:00:00\",\"2024-04-01T00:00:00\",\"2024-05-01T00:00:00\",\"2024-06-01T00:00:00\",\"2024-07-01T00:00:00\",\"2024-08-01T00:00:00\",\"2024-09-01T00:00:00\",\"2024-10-01T00:00:00\",\"2024-11-01T00:00:00\",\"2024-12-01T00:00:00\"],\"xaxis\":\"x\",\"y\":[3935382.0511,2015611.3559,4104092.4789,2556526.8689,1846852.4278000002,3040229.0701,2725218.5856,3716609.6758,3977430.0302,7141414.6517,6179283.6837,1697150.386,2319366.8446,1739293.4269,2450838.2811,3620739.7827,2429635.5746,2661734.2357,3757838.8832,2554547.1751,1942772.8122999999,3126055.4459,4756187.993199999,3027877.08],\"yaxis\":\"y\",\"type\":\"scatter\"}],                        {\"template\":{\"data\":{\"histogram2dcontour\":[{\"type\":\"histogram2dcontour\",\"colorbar\":{\"outlinewidth\":0,\"ticks\":\"\"},\"colorscale\":[[0.0,\"#0d0887\"],[0.1111111111111111,\"#46039f\"],[0.2222222222222222,\"#7201a8\"],[0.3333333333333333,\"#9c179e\"],[0.4444444444444444,\"#bd3786\"],[0.5555555555555556,\"#d8576b\"],[0.6666666666666666,\"#ed7953\"],[0.7777777777777778,\"#fb9f3a\"],[0.8888888888888888,\"#fdca26\"],[1.0,\"#f0f921\"]]}],\"choropleth\":[{\"type\":\"choropleth\",\"colorbar\":{\"outlinewidth\":0,\"ticks\":\"\"}}],\"histogram2d\":[{\"type\":\"histogram2d\",\"colorbar\":{\"outlinewidth\":0,\"ticks\":\"\"},\"colorscale\":[[0.0,\"#0d0887\"],[0.1111111111111111,\"#46039f\"],[0.2222222222222222,\"#7201a8\"],[0.3333333333333333,\"#9c179e\"],[0.4444444444444444,\"#bd3786\"],[0.5555555555555556,\"#d8576b\"],[0.6666666666666666,\"#ed7953\"],[0.7777777777777778,\"#fb9f3a\"],[0.8888888888888888,\"#fdca26\"],[1.0,\"#f0f921\"]]}],\"heatmap\":[{\"type\":\"heatmap\",\"colorbar\":{\"outlinewidth\":0,\"ticks\":\"\"},\"colorscale\":[[0.0,\"#0d0887\"],[0.1111111111111111,\"#46039f\"],[0.2222222222222222,\"#7201a8\"],[0.3333333333333333,\"#9c179e\"],[0.4444444444444444,\"#bd3786\"],[0.5555555555555556,\"#d8576b\"],[0.6666666666666666,\"#ed7953\"],[0.7777777777777778,\"#fb9f3a\"],[0.8888888888888888,\"#fdca26\"],[1.0,\"#f0f921\"]]}],\"heatmapgl\":[{\"type\":\"heatmapgl\",\"colorbar\":{\"outlinewidth\":0,\"ticks\":\"\"},\"colorscale\":[[0.0,\"#0d0887\"],[0.1111111111111111,\"#46039f\"],[0.2222222222222222,\"#7201a8\"],[0.3333333333333333,\"#9c179e\"],[0.4444444444444444,\"#bd3786\"],[0.5555555555555556,\"#d8576b\"],[0.6666666666666666,\"#ed7953\"],[0.7777777777777778,\"#fb9f3a\"],[0.8888888888888888,\"#fdca26\"],[1.0,\"#f0f921\"]]}],\"contourcarpet\":[{\"type\":\"contourcarpet\",\"colorbar\":{\"outlinewidth\":0,\"ticks\":\"\"}}],\"contour\":[{\"type\":\"contour\",\"colorbar\":{\"outlinewidth\":0,\"ticks\":\"\"},\"colorscale\":[[0.0,\"#0d0887\"],[0.1111111111111111,\"#46039f\"],[0.2222222222222222,\"#7201a8\"],[0.3333333333333333,\"#9c179e\"],[0.4444444444444444,\"#bd3786\"],[0.5555555555555556,\"#d8576b\"],[0.6666666666666666,\"#ed7953\"],[0.7777777777777778,\"#fb9f3a\"],[0.8888888888888888,\"#fdca26\"],[1.0,\"#f0f921\"]]}],\"surface\":[{\"type\":\"surface\",\"colorbar\":{\"outlinewidth\":0,\"ticks\":\"\"},\"colorscale\":[[0.0,\"#0d0887\"],[0.1111111111111111,\"#46039f\"],[0.2222222222222222,\"#7201a8\"],[0.3333333333333333,\"#9c179e\"],[0.4444444444444444,\"#bd3786\"],[0.5555555555555556,\"#d8576b\"],[0.6666666666666666,\"#ed7953\"],[0.7777777777777778,\"#fb9f3a\"],[0.8888888888888888,\"#fdca26\"],[1.0,\"#f0f921\"]]}],\"mesh3d\":[{\"type\":\"mesh3d\",\"colorbar\":{\"outlinewidth\":0,\"ticks\":\"\"}}],\"scatter\":[{\"fillpattern\":{\"fillmode\":\"overlay\",\"size\":10,\"solidity\":0.2},\"type\":\"scatter\"}],\"parcoords\":[{\"type\":\"parcoords\",\"line\":{\"colorbar\":{\"outlinewidth\":0,\"ticks\":\"\"}}}],\"scatterpolargl\":[{\"type\":\"scatterpolargl\",\"marker\":{\"colorbar\":{\"outlinewidth\":0,\"ticks\":\"\"}}}],\"bar\":[{\"error_x\":{\"color\":\"#2a3f5f\"},\"error_y\":{\"color\":\"#2a3f5f\"},\"marker\":{\"line\":{\"color\":\"#E5ECF6\",\"width\":0.5},\"pattern\":{\"fillmode\":\"overlay\",\"size\":10,\"solidity\":0.2}},\"type\":\"bar\"}],\"scattergeo\":[{\"type\":\"scattergeo\",\"marker\":{\"colorbar\":{\"outlinewidth\":0,\"ticks\":\"\"}}}],\"scatterpolar\":[{\"type\":\"scatterpolar\",\"marker\":{\"colorbar\":{\"outlinewidth\":0,\"ticks\":\"\"}}}],\"histogram\":[{\"marker\":{\"pattern\":{\"fillmode\":\"overlay\",\"size\":10,\"solidity\":0.2}},\"type\":\"histogram\"}],\"scattergl\":[{\"type\":\"scattergl\",\"marker\":{\"colorbar\":{\"outlinewidth\":0,\"ticks\":\"\"}}}],\"scatter3d\":[{\"type\":\"scatter3d\",\"line\":{\"colorbar\":{\"outlinewidth\":0,\"ticks\":\"\"}},\"marker\":{\"colorbar\":{\"outlinewidth\":0,\"ticks\":\"\"}}}],\"scattermapbox\":[{\"type\":\"scattermapbox\",\"marker\":{\"colorbar\":{\"outlinewidth\":0,\"ticks\":\"\"}}}],\"scatterternary\":[{\"type\":\"scatterternary\",\"marker\":{\"colorbar\":{\"outlinewidth\":0,\"ticks\":\"\"}}}],\"scattercarpet\":[{\"type\":\"scattercarpet\",\"marker\":{\"colorbar\":{\"outlinewidth\":0,\"ticks\":\"\"}}}],\"carpet\":[{\"aaxis\":{\"endlinecolor\":\"#2a3f5f\",\"gridcolor\":\"white\",\"linecolor\":\"white\",\"minorgridcolor\":\"white\",\"startlinecolor\":\"#2a3f5f\"},\"baxis\":{\"endlinecolor\":\"#2a3f5f\",\"gridcolor\":\"white\",\"linecolor\":\"white\",\"minorgridcolor\":\"white\",\"startlinecolor\":\"#2a3f5f\"},\"type\":\"carpet\"}],\"table\":[{\"cells\":{\"fill\":{\"color\":\"#EBF0F8\"},\"line\":{\"color\":\"white\"}},\"header\":{\"fill\":{\"color\":\"#C8D4E3\"},\"line\":{\"color\":\"white\"}},\"type\":\"table\"}],\"barpolar\":[{\"marker\":{\"line\":{\"color\":\"#E5ECF6\",\"width\":0.5},\"pattern\":{\"fillmode\":\"overlay\",\"size\":10,\"solidity\":0.2}},\"type\":\"barpolar\"}],\"pie\":[{\"automargin\":true,\"type\":\"pie\"}]},\"layout\":{\"autotypenumbers\":\"strict\",\"colorway\":[\"#636efa\",\"#EF553B\",\"#00cc96\",\"#ab63fa\",\"#FFA15A\",\"#19d3f3\",\"#FF6692\",\"#B6E880\",\"#FF97FF\",\"#FECB52\"],\"font\":{\"color\":\"#2a3f5f\"},\"hovermode\":\"closest\",\"hoverlabel\":{\"align\":\"left\"},\"paper_bgcolor\":\"white\",\"plot_bgcolor\":\"#E5ECF6\",\"polar\":{\"bgcolor\":\"#E5ECF6\",\"angularaxis\":{\"gridcolor\":\"white\",\"linecolor\":\"white\",\"ticks\":\"\"},\"radialaxis\":{\"gridcolor\":\"white\",\"linecolor\":\"white\",\"ticks\":\"\"}},\"ternary\":{\"bgcolor\":\"#E5ECF6\",\"aaxis\":{\"gridcolor\":\"white\",\"linecolor\":\"white\",\"ticks\":\"\"},\"baxis\":{\"gridcolor\":\"white\",\"linecolor\":\"white\",\"ticks\":\"\"},\"caxis\":{\"gridcolor\":\"white\",\"linecolor\":\"white\",\"ticks\":\"\"}},\"coloraxis\":{\"colorbar\":{\"outlinewidth\":0,\"ticks\":\"\"}},\"colorscale\":{\"sequential\":[[0.0,\"#0d0887\"],[0.1111111111111111,\"#46039f\"],[0.2222222222222222,\"#7201a8\"],[0.3333333333333333,\"#9c179e\"],[0.4444444444444444,\"#bd3786\"],[0.5555555555555556,\"#d8576b\"],[0.6666666666666666,\"#ed7953\"],[0.7777777777777778,\"#fb9f3a\"],[0.8888888888888888,\"#fdca26\"],[1.0,\"#f0f921\"]],\"sequentialminus\":[[0.0,\"#0d0887\"],[0.1111111111111111,\"#46039f\"],[0.2222222222222222,\"#7201a8\"],[0.3333333333333333,\"#9c179e\"],[0.4444444444444444,\"#bd3786\"],[0.5555555555555556,\"#d8576b\"],[0.6666666666666666,\"#ed7953\"],[0.7777777777777778,\"#fb9f3a\"],[0.8888888888888888,\"#fdca26\"],[1.0,\"#f0f921\"]],\"diverging\":[[0,\"#8e0152\"],[0.1,\"#c51b7d\"],[0.2,\"#de77ae\"],[0.3,\"#f1b6da\"],[0.4,\"#fde0ef\"],[0.5,\"#f7f7f7\"],[0.6,\"#e6f5d0\"],[0.7,\"#b8e186\"],[0.8,\"#7fbc41\"],[0.9,\"#4d9221\"],[1,\"#276419\"]]},\"xaxis\":{\"gridcolor\":\"white\",\"linecolor\":\"white\",\"ticks\":\"\",\"title\":{\"standoff\":15},\"zerolinecolor\":\"white\",\"automargin\":true,\"zerolinewidth\":2},\"yaxis\":{\"gridcolor\":\"white\",\"linecolor\":\"white\",\"ticks\":\"\",\"title\":{\"standoff\":15},\"zerolinecolor\":\"white\",\"automargin\":true,\"zerolinewidth\":2},\"scene\":{\"xaxis\":{\"backgroundcolor\":\"#E5ECF6\",\"gridcolor\":\"white\",\"linecolor\":\"white\",\"showbackground\":true,\"ticks\":\"\",\"zerolinecolor\":\"white\",\"gridwidth\":2},\"yaxis\":{\"backgroundcolor\":\"#E5ECF6\",\"gridcolor\":\"white\",\"linecolor\":\"white\",\"showbackground\":true,\"ticks\":\"\",\"zerolinecolor\":\"white\",\"gridwidth\":2},\"zaxis\":{\"backgroundcolor\":\"#E5ECF6\",\"gridcolor\":\"white\",\"linecolor\":\"white\",\"showbackground\":true,\"ticks\":\"\",\"zerolinecolor\":\"white\",\"gridwidth\":2}},\"shapedefaults\":{\"line\":{\"color\":\"#2a3f5f\"}},\"annotationdefaults\":{\"arrowcolor\":\"#2a3f5f\",\"arrowhead\":0,\"arrowwidth\":1},\"geo\":{\"bgcolor\":\"white\",\"landcolor\":\"#E5ECF6\",\"subunitcolor\":\"white\",\"showland\":true,\"showlakes\":true,\"lakecolor\":\"white\"},\"title\":{\"x\":0.05},\"mapbox\":{\"style\":\"light\"}}},\"xaxis\":{\"anchor\":\"y\",\"domain\":[0.0,1.0],\"title\":{\"text\":\"Month\"}},\"yaxis\":{\"anchor\":\"x\",\"domain\":[0.0,1.0],\"title\":{\"text\":\"Total Sales (INR)\"}},\"legend\":{\"tracegroupgap\":0},\"title\":{\"text\":\"Monthly Sales Trend\"}},                        {\"responsive\": true}                    ).then(function(){\n",
              "                            \n",
              "var gd = document.getElementById('020c20e0-0946-495b-8648-1ec0ee918ca7');\n",
              "var x = new MutationObserver(function (mutations, observer) {{\n",
              "        var display = window.getComputedStyle(gd).display;\n",
              "        if (!display || display === 'none') {{\n",
              "            console.log([gd, 'removed!']);\n",
              "            Plotly.purge(gd);\n",
              "            observer.disconnect();\n",
              "        }}\n",
              "}});\n",
              "\n",
              "// Listen for the removal of the full notebook cells\n",
              "var notebookContainer = gd.closest('#notebook-container');\n",
              "if (notebookContainer) {{\n",
              "    x.observe(notebookContainer, {childList: true});\n",
              "}}\n",
              "\n",
              "// Listen for the clearing of the current output cell\n",
              "var outputEl = gd.closest('.output');\n",
              "if (outputEl) {{\n",
              "    x.observe(outputEl, {childList: true});\n",
              "}}\n",
              "\n",
              "                        })                };                            </script>        </div>\n",
              "</body>\n",
              "</html>"
            ]
          },
          "metadata": {}
        },
        {
          "output_type": "display_data",
          "data": {
            "text/html": [
              "<html>\n",
              "<head><meta charset=\"utf-8\" /></head>\n",
              "<body>\n",
              "    <div>            <script src=\"https://cdnjs.cloudflare.com/ajax/libs/mathjax/2.7.5/MathJax.js?config=TeX-AMS-MML_SVG\"></script><script type=\"text/javascript\">if (window.MathJax && window.MathJax.Hub && window.MathJax.Hub.Config) {window.MathJax.Hub.Config({SVG: {font: \"STIX-Web\"}});}</script>                <script type=\"text/javascript\">window.PlotlyConfig = {MathJaxConfig: 'local'};</script>\n",
              "        <script charset=\"utf-8\" src=\"https://cdn.plot.ly/plotly-2.35.2.min.js\"></script>                <div id=\"85afd1c6-aa49-43a3-ba63-06167a12ad73\" class=\"plotly-graph-div\" style=\"height:525px; width:100%;\"></div>            <script type=\"text/javascript\">                                    window.PLOTLYENV=window.PLOTLYENV || {};                                    if (document.getElementById(\"85afd1c6-aa49-43a3-ba63-06167a12ad73\")) {                    Plotly.newPlot(                        \"85afd1c6-aa49-43a3-ba63-06167a12ad73\",                        [{\"alignmentgroup\":\"True\",\"hovertemplate\":\"Category=%{x}\\u003cbr\\u003eSaleAmount=%{y}\\u003cextra\\u003e\\u003c\\u002fextra\\u003e\",\"legendgroup\":\"\",\"marker\":{\"color\":\"#636efa\",\"pattern\":{\"shape\":\"\"}},\"name\":\"\",\"offsetgroup\":\"\",\"orientation\":\"v\",\"showlegend\":false,\"textposition\":\"auto\",\"texttemplate\":\"%{y:.2s}\",\"x\":[\"Electronics\",\"Home & Kitchen\",\"Fashion\",\"Books\"],\"xaxis\":\"x\",\"y\":[67417678.0395,7715148.7206,1461273.2602,728588.7807],\"yaxis\":\"y\",\"type\":\"bar\"}],                        {\"template\":{\"data\":{\"histogram2dcontour\":[{\"type\":\"histogram2dcontour\",\"colorbar\":{\"outlinewidth\":0,\"ticks\":\"\"},\"colorscale\":[[0.0,\"#0d0887\"],[0.1111111111111111,\"#46039f\"],[0.2222222222222222,\"#7201a8\"],[0.3333333333333333,\"#9c179e\"],[0.4444444444444444,\"#bd3786\"],[0.5555555555555556,\"#d8576b\"],[0.6666666666666666,\"#ed7953\"],[0.7777777777777778,\"#fb9f3a\"],[0.8888888888888888,\"#fdca26\"],[1.0,\"#f0f921\"]]}],\"choropleth\":[{\"type\":\"choropleth\",\"colorbar\":{\"outlinewidth\":0,\"ticks\":\"\"}}],\"histogram2d\":[{\"type\":\"histogram2d\",\"colorbar\":{\"outlinewidth\":0,\"ticks\":\"\"},\"colorscale\":[[0.0,\"#0d0887\"],[0.1111111111111111,\"#46039f\"],[0.2222222222222222,\"#7201a8\"],[0.3333333333333333,\"#9c179e\"],[0.4444444444444444,\"#bd3786\"],[0.5555555555555556,\"#d8576b\"],[0.6666666666666666,\"#ed7953\"],[0.7777777777777778,\"#fb9f3a\"],[0.8888888888888888,\"#fdca26\"],[1.0,\"#f0f921\"]]}],\"heatmap\":[{\"type\":\"heatmap\",\"colorbar\":{\"outlinewidth\":0,\"ticks\":\"\"},\"colorscale\":[[0.0,\"#0d0887\"],[0.1111111111111111,\"#46039f\"],[0.2222222222222222,\"#7201a8\"],[0.3333333333333333,\"#9c179e\"],[0.4444444444444444,\"#bd3786\"],[0.5555555555555556,\"#d8576b\"],[0.6666666666666666,\"#ed7953\"],[0.7777777777777778,\"#fb9f3a\"],[0.8888888888888888,\"#fdca26\"],[1.0,\"#f0f921\"]]}],\"heatmapgl\":[{\"type\":\"heatmapgl\",\"colorbar\":{\"outlinewidth\":0,\"ticks\":\"\"},\"colorscale\":[[0.0,\"#0d0887\"],[0.1111111111111111,\"#46039f\"],[0.2222222222222222,\"#7201a8\"],[0.3333333333333333,\"#9c179e\"],[0.4444444444444444,\"#bd3786\"],[0.5555555555555556,\"#d8576b\"],[0.6666666666666666,\"#ed7953\"],[0.7777777777777778,\"#fb9f3a\"],[0.8888888888888888,\"#fdca26\"],[1.0,\"#f0f921\"]]}],\"contourcarpet\":[{\"type\":\"contourcarpet\",\"colorbar\":{\"outlinewidth\":0,\"ticks\":\"\"}}],\"contour\":[{\"type\":\"contour\",\"colorbar\":{\"outlinewidth\":0,\"ticks\":\"\"},\"colorscale\":[[0.0,\"#0d0887\"],[0.1111111111111111,\"#46039f\"],[0.2222222222222222,\"#7201a8\"],[0.3333333333333333,\"#9c179e\"],[0.4444444444444444,\"#bd3786\"],[0.5555555555555556,\"#d8576b\"],[0.6666666666666666,\"#ed7953\"],[0.7777777777777778,\"#fb9f3a\"],[0.8888888888888888,\"#fdca26\"],[1.0,\"#f0f921\"]]}],\"surface\":[{\"type\":\"surface\",\"colorbar\":{\"outlinewidth\":0,\"ticks\":\"\"},\"colorscale\":[[0.0,\"#0d0887\"],[0.1111111111111111,\"#46039f\"],[0.2222222222222222,\"#7201a8\"],[0.3333333333333333,\"#9c179e\"],[0.4444444444444444,\"#bd3786\"],[0.5555555555555556,\"#d8576b\"],[0.6666666666666666,\"#ed7953\"],[0.7777777777777778,\"#fb9f3a\"],[0.8888888888888888,\"#fdca26\"],[1.0,\"#f0f921\"]]}],\"mesh3d\":[{\"type\":\"mesh3d\",\"colorbar\":{\"outlinewidth\":0,\"ticks\":\"\"}}],\"scatter\":[{\"fillpattern\":{\"fillmode\":\"overlay\",\"size\":10,\"solidity\":0.2},\"type\":\"scatter\"}],\"parcoords\":[{\"type\":\"parcoords\",\"line\":{\"colorbar\":{\"outlinewidth\":0,\"ticks\":\"\"}}}],\"scatterpolargl\":[{\"type\":\"scatterpolargl\",\"marker\":{\"colorbar\":{\"outlinewidth\":0,\"ticks\":\"\"}}}],\"bar\":[{\"error_x\":{\"color\":\"#2a3f5f\"},\"error_y\":{\"color\":\"#2a3f5f\"},\"marker\":{\"line\":{\"color\":\"#E5ECF6\",\"width\":0.5},\"pattern\":{\"fillmode\":\"overlay\",\"size\":10,\"solidity\":0.2}},\"type\":\"bar\"}],\"scattergeo\":[{\"type\":\"scattergeo\",\"marker\":{\"colorbar\":{\"outlinewidth\":0,\"ticks\":\"\"}}}],\"scatterpolar\":[{\"type\":\"scatterpolar\",\"marker\":{\"colorbar\":{\"outlinewidth\":0,\"ticks\":\"\"}}}],\"histogram\":[{\"marker\":{\"pattern\":{\"fillmode\":\"overlay\",\"size\":10,\"solidity\":0.2}},\"type\":\"histogram\"}],\"scattergl\":[{\"type\":\"scattergl\",\"marker\":{\"colorbar\":{\"outlinewidth\":0,\"ticks\":\"\"}}}],\"scatter3d\":[{\"type\":\"scatter3d\",\"line\":{\"colorbar\":{\"outlinewidth\":0,\"ticks\":\"\"}},\"marker\":{\"colorbar\":{\"outlinewidth\":0,\"ticks\":\"\"}}}],\"scattermapbox\":[{\"type\":\"scattermapbox\",\"marker\":{\"colorbar\":{\"outlinewidth\":0,\"ticks\":\"\"}}}],\"scatterternary\":[{\"type\":\"scatterternary\",\"marker\":{\"colorbar\":{\"outlinewidth\":0,\"ticks\":\"\"}}}],\"scattercarpet\":[{\"type\":\"scattercarpet\",\"marker\":{\"colorbar\":{\"outlinewidth\":0,\"ticks\":\"\"}}}],\"carpet\":[{\"aaxis\":{\"endlinecolor\":\"#2a3f5f\",\"gridcolor\":\"white\",\"linecolor\":\"white\",\"minorgridcolor\":\"white\",\"startlinecolor\":\"#2a3f5f\"},\"baxis\":{\"endlinecolor\":\"#2a3f5f\",\"gridcolor\":\"white\",\"linecolor\":\"white\",\"minorgridcolor\":\"white\",\"startlinecolor\":\"#2a3f5f\"},\"type\":\"carpet\"}],\"table\":[{\"cells\":{\"fill\":{\"color\":\"#EBF0F8\"},\"line\":{\"color\":\"white\"}},\"header\":{\"fill\":{\"color\":\"#C8D4E3\"},\"line\":{\"color\":\"white\"}},\"type\":\"table\"}],\"barpolar\":[{\"marker\":{\"line\":{\"color\":\"#E5ECF6\",\"width\":0.5},\"pattern\":{\"fillmode\":\"overlay\",\"size\":10,\"solidity\":0.2}},\"type\":\"barpolar\"}],\"pie\":[{\"automargin\":true,\"type\":\"pie\"}]},\"layout\":{\"autotypenumbers\":\"strict\",\"colorway\":[\"#636efa\",\"#EF553B\",\"#00cc96\",\"#ab63fa\",\"#FFA15A\",\"#19d3f3\",\"#FF6692\",\"#B6E880\",\"#FF97FF\",\"#FECB52\"],\"font\":{\"color\":\"#2a3f5f\"},\"hovermode\":\"closest\",\"hoverlabel\":{\"align\":\"left\"},\"paper_bgcolor\":\"white\",\"plot_bgcolor\":\"#E5ECF6\",\"polar\":{\"bgcolor\":\"#E5ECF6\",\"angularaxis\":{\"gridcolor\":\"white\",\"linecolor\":\"white\",\"ticks\":\"\"},\"radialaxis\":{\"gridcolor\":\"white\",\"linecolor\":\"white\",\"ticks\":\"\"}},\"ternary\":{\"bgcolor\":\"#E5ECF6\",\"aaxis\":{\"gridcolor\":\"white\",\"linecolor\":\"white\",\"ticks\":\"\"},\"baxis\":{\"gridcolor\":\"white\",\"linecolor\":\"white\",\"ticks\":\"\"},\"caxis\":{\"gridcolor\":\"white\",\"linecolor\":\"white\",\"ticks\":\"\"}},\"coloraxis\":{\"colorbar\":{\"outlinewidth\":0,\"ticks\":\"\"}},\"colorscale\":{\"sequential\":[[0.0,\"#0d0887\"],[0.1111111111111111,\"#46039f\"],[0.2222222222222222,\"#7201a8\"],[0.3333333333333333,\"#9c179e\"],[0.4444444444444444,\"#bd3786\"],[0.5555555555555556,\"#d8576b\"],[0.6666666666666666,\"#ed7953\"],[0.7777777777777778,\"#fb9f3a\"],[0.8888888888888888,\"#fdca26\"],[1.0,\"#f0f921\"]],\"sequentialminus\":[[0.0,\"#0d0887\"],[0.1111111111111111,\"#46039f\"],[0.2222222222222222,\"#7201a8\"],[0.3333333333333333,\"#9c179e\"],[0.4444444444444444,\"#bd3786\"],[0.5555555555555556,\"#d8576b\"],[0.6666666666666666,\"#ed7953\"],[0.7777777777777778,\"#fb9f3a\"],[0.8888888888888888,\"#fdca26\"],[1.0,\"#f0f921\"]],\"diverging\":[[0,\"#8e0152\"],[0.1,\"#c51b7d\"],[0.2,\"#de77ae\"],[0.3,\"#f1b6da\"],[0.4,\"#fde0ef\"],[0.5,\"#f7f7f7\"],[0.6,\"#e6f5d0\"],[0.7,\"#b8e186\"],[0.8,\"#7fbc41\"],[0.9,\"#4d9221\"],[1,\"#276419\"]]},\"xaxis\":{\"gridcolor\":\"white\",\"linecolor\":\"white\",\"ticks\":\"\",\"title\":{\"standoff\":15},\"zerolinecolor\":\"white\",\"automargin\":true,\"zerolinewidth\":2},\"yaxis\":{\"gridcolor\":\"white\",\"linecolor\":\"white\",\"ticks\":\"\",\"title\":{\"standoff\":15},\"zerolinecolor\":\"white\",\"automargin\":true,\"zerolinewidth\":2},\"scene\":{\"xaxis\":{\"backgroundcolor\":\"#E5ECF6\",\"gridcolor\":\"white\",\"linecolor\":\"white\",\"showbackground\":true,\"ticks\":\"\",\"zerolinecolor\":\"white\",\"gridwidth\":2},\"yaxis\":{\"backgroundcolor\":\"#E5ECF6\",\"gridcolor\":\"white\",\"linecolor\":\"white\",\"showbackground\":true,\"ticks\":\"\",\"zerolinecolor\":\"white\",\"gridwidth\":2},\"zaxis\":{\"backgroundcolor\":\"#E5ECF6\",\"gridcolor\":\"white\",\"linecolor\":\"white\",\"showbackground\":true,\"ticks\":\"\",\"zerolinecolor\":\"white\",\"gridwidth\":2}},\"shapedefaults\":{\"line\":{\"color\":\"#2a3f5f\"}},\"annotationdefaults\":{\"arrowcolor\":\"#2a3f5f\",\"arrowhead\":0,\"arrowwidth\":1},\"geo\":{\"bgcolor\":\"white\",\"landcolor\":\"#E5ECF6\",\"subunitcolor\":\"white\",\"showland\":true,\"showlakes\":true,\"lakecolor\":\"white\"},\"title\":{\"x\":0.05},\"mapbox\":{\"style\":\"light\"}}},\"xaxis\":{\"anchor\":\"y\",\"domain\":[0.0,1.0],\"title\":{\"text\":\"Category\"}},\"yaxis\":{\"anchor\":\"x\",\"domain\":[0.0,1.0],\"title\":{\"text\":\"SaleAmount\"}},\"legend\":{\"tracegroupgap\":0},\"title\":{\"text\":\"Total Sales by Product Category\"},\"barmode\":\"relative\"},                        {\"responsive\": true}                    ).then(function(){\n",
              "                            \n",
              "var gd = document.getElementById('85afd1c6-aa49-43a3-ba63-06167a12ad73');\n",
              "var x = new MutationObserver(function (mutations, observer) {{\n",
              "        var display = window.getComputedStyle(gd).display;\n",
              "        if (!display || display === 'none') {{\n",
              "            console.log([gd, 'removed!']);\n",
              "            Plotly.purge(gd);\n",
              "            observer.disconnect();\n",
              "        }}\n",
              "}});\n",
              "\n",
              "// Listen for the removal of the full notebook cells\n",
              "var notebookContainer = gd.closest('#notebook-container');\n",
              "if (notebookContainer) {{\n",
              "    x.observe(notebookContainer, {childList: true});\n",
              "}}\n",
              "\n",
              "// Listen for the clearing of the current output cell\n",
              "var outputEl = gd.closest('.output');\n",
              "if (outputEl) {{\n",
              "    x.observe(outputEl, {childList: true});\n",
              "}}\n",
              "\n",
              "                        })                };                            </script>        </div>\n",
              "</body>\n",
              "</html>"
            ]
          },
          "metadata": {}
        },
        {
          "output_type": "display_data",
          "data": {
            "text/html": [
              "<html>\n",
              "<head><meta charset=\"utf-8\" /></head>\n",
              "<body>\n",
              "    <div>            <script src=\"https://cdnjs.cloudflare.com/ajax/libs/mathjax/2.7.5/MathJax.js?config=TeX-AMS-MML_SVG\"></script><script type=\"text/javascript\">if (window.MathJax && window.MathJax.Hub && window.MathJax.Hub.Config) {window.MathJax.Hub.Config({SVG: {font: \"STIX-Web\"}});}</script>                <script type=\"text/javascript\">window.PlotlyConfig = {MathJaxConfig: 'local'};</script>\n",
              "        <script charset=\"utf-8\" src=\"https://cdn.plot.ly/plotly-2.35.2.min.js\"></script>                <div id=\"c2f3eebf-8091-4ac3-bbe4-256f7b398de0\" class=\"plotly-graph-div\" style=\"height:525px; width:100%;\"></div>            <script type=\"text/javascript\">                                    window.PLOTLYENV=window.PLOTLYENV || {};                                    if (document.getElementById(\"c2f3eebf-8091-4ac3-bbe4-256f7b398de0\")) {                    Plotly.newPlot(                        \"c2f3eebf-8091-4ac3-bbe4-256f7b398de0\",                        [{\"hovertemplate\":\"Category=Home & Kitchen\\u003cbr\\u003eDiscount (%)=%{x}\\u003cbr\\u003eUnits Sold=%{y}\\u003cextra\\u003e\\u003c\\u002fextra\\u003e\",\"legendgroup\":\"Home & Kitchen\",\"marker\":{\"color\":\"#636efa\",\"symbol\":\"circle\"},\"mode\":\"markers\",\"name\":\"Home & Kitchen\",\"orientation\":\"v\",\"showlegend\":true,\"x\":[13,15,0,40,0,9,0,0,17,0,0,25,0,0,30,0,0,0,0,36,27,0,0,0,0,37,36,25,26,0,18,38,0,19,25,31,22,20,0,22,0,0,0,0,0,18,36,0,28,0,0,0,0,12,0,0,0,0,0,0,0,0,0,0,0,0,15,0,0,0,10,0,0,0,0,0,17,0,0,0,0,7,0,0,26,0,0,0,17,0,0,11,0,0,18,14,22,0,26,0,21,0,0,0,0,0,34,0,5,0,0,15,0,25,0,38,0,20,40,0,0,15,40,0,0,0,0,26,0,29,25,29,0,0,24,0,33,11,0,0,0,6,26,40,39,0,0,17,0,0,27,0,20,20,18,0,0,12,18,5,5,0,0,0,6,0,0,20,39,0,0,0,0,0,34,0,0,0,0,0,0,9,25,36,0,0,36,19,0,14,0,25,0,14,22,16,24,0,0,0,0,0,0,0,0,35,36,0,0,0,40,0,0,0,17,35,9,0,27,0,10,0,26,28,33,0,0,0,27,0,0,0,0,30,12,23,26,12,0,6,0,38,0,0,10,0,8,0,0,0,33,0,12,0,0,5,0,0,0,0,23,0,0,0,0,8,0,36,0,8,27,20,0,0,11,0,0,0,0,0,0,0,0,0,0,5],\"xaxis\":\"x\",\"y\":[2,4,1,5,3,1,3,3,2,4,5,5,3,2,8,3,1,5,2,6,5,4,3,3,1,9,5,7,8,1,4,5,3,6,5,9,8,2,4,7,1,2,5,2,2,5,8,2,9,4,1,3,2,6,4,1,4,5,5,2,1,1,5,5,4,7,7,3,4,3,4,5,1,2,2,4,5,5,7,3,5,4,4,1,6,2,3,1,1,3,5,1,2,4,4,4,7,3,6,5,3,5,1,3,2,3,8,4,2,5,4,5,4,8,5,5,1,6,5,5,1,2,7,4,1,2,4,8,5,6,6,4,4,3,6,4,5,5,3,5,5,2,4,4,3,2,7,1,3,5,5,1,5,1,5,2,4,4,5,3,3,2,1,1,4,3,4,5,9,4,3,3,5,3,8,2,4,3,4,5,2,2,6,4,2,1,7,2,5,4,5,6,2,2,5,5,5,3,4,1,3,5,4,1,1,6,5,2,6,1,6,2,5,4,5,7,3,6,7,4,2,2,6,11,11,6,3,5,9,2,3,5,6,5,4,5,7,2,2,3,5,10,5,2,1,5,2,4,4,3,9,4,4,1,3,6,3,5,3,2,9,6,4,3,6,5,5,7,3,4,8,2,2,3,5,6,3,2,2,4,2,1,4,5,1,2],\"yaxis\":\"y\",\"type\":\"scatter\"},{\"hovertemplate\":\"\\u003cb\\u003eOLS trendline\\u003c\\u002fb\\u003e\\u003cbr\\u003eUnitsSold = 0.0956126 * DiscountPercentage + 3.16572\\u003cbr\\u003eR\\u003csup\\u003e2\\u003c\\u002fsup\\u003e=0.334163\\u003cbr\\u003e\\u003cbr\\u003eCategory=Home & Kitchen\\u003cbr\\u003eDiscount (%)=%{x}\\u003cbr\\u003eUnits Sold=%{y} \\u003cb\\u003e(trend)\\u003c\\u002fb\\u003e\\u003cextra\\u003e\\u003c\\u002fextra\\u003e\",\"legendgroup\":\"Home & Kitchen\",\"marker\":{\"color\":\"#636efa\",\"symbol\":\"circle\"},\"mode\":\"lines\",\"name\":\"Home & Kitchen\",\"showlegend\":false,\"x\":[0,0,0,0,0,0,0,0,0,0,0,0,0,0,0,0,0,0,0,0,0,0,0,0,0,0,0,0,0,0,0,0,0,0,0,0,0,0,0,0,0,0,0,0,0,0,0,0,0,0,0,0,0,0,0,0,0,0,0,0,0,0,0,0,0,0,0,0,0,0,0,0,0,0,0,0,0,0,0,0,0,0,0,0,0,0,0,0,0,0,0,0,0,0,0,0,0,0,0,0,0,0,0,0,0,0,0,0,0,0,0,0,0,0,0,0,0,0,0,0,0,0,0,0,0,0,0,0,0,0,0,0,0,0,0,0,0,0,0,0,0,0,0,0,0,0,0,0,0,0,0,0,0,0,0,0,0,0,0,0,0,0,0,0,0,0,0,0,0,0,0,0,0,5,5,5,5,5,6,6,6,7,8,8,8,9,9,9,10,10,10,11,11,11,12,12,12,12,12,13,14,14,14,15,15,15,15,16,17,17,17,17,17,18,18,18,18,18,19,19,20,20,20,20,20,20,21,22,22,22,22,23,23,24,24,25,25,25,25,25,25,25,26,26,26,26,26,26,26,27,27,27,27,27,28,28,29,29,30,30,31,33,33,33,34,34,35,35,36,36,36,36,36,36,36,37,38,38,38,39,39,40,40,40,40,40],\"xaxis\":\"x\",\"y\":[3.165716224094723,3.165716224094723,3.165716224094723,3.165716224094723,3.165716224094723,3.165716224094723,3.165716224094723,3.165716224094723,3.165716224094723,3.165716224094723,3.165716224094723,3.165716224094723,3.165716224094723,3.165716224094723,3.165716224094723,3.165716224094723,3.165716224094723,3.165716224094723,3.165716224094723,3.165716224094723,3.165716224094723,3.165716224094723,3.165716224094723,3.165716224094723,3.165716224094723,3.165716224094723,3.165716224094723,3.165716224094723,3.165716224094723,3.165716224094723,3.165716224094723,3.165716224094723,3.165716224094723,3.165716224094723,3.165716224094723,3.165716224094723,3.165716224094723,3.165716224094723,3.165716224094723,3.165716224094723,3.165716224094723,3.165716224094723,3.165716224094723,3.165716224094723,3.165716224094723,3.165716224094723,3.165716224094723,3.165716224094723,3.165716224094723,3.165716224094723,3.165716224094723,3.165716224094723,3.165716224094723,3.165716224094723,3.165716224094723,3.165716224094723,3.165716224094723,3.165716224094723,3.165716224094723,3.165716224094723,3.165716224094723,3.165716224094723,3.165716224094723,3.165716224094723,3.165716224094723,3.165716224094723,3.165716224094723,3.165716224094723,3.165716224094723,3.165716224094723,3.165716224094723,3.165716224094723,3.165716224094723,3.165716224094723,3.165716224094723,3.165716224094723,3.165716224094723,3.165716224094723,3.165716224094723,3.165716224094723,3.165716224094723,3.165716224094723,3.165716224094723,3.165716224094723,3.165716224094723,3.165716224094723,3.165716224094723,3.165716224094723,3.165716224094723,3.165716224094723,3.165716224094723,3.165716224094723,3.165716224094723,3.165716224094723,3.165716224094723,3.165716224094723,3.165716224094723,3.165716224094723,3.165716224094723,3.165716224094723,3.165716224094723,3.165716224094723,3.165716224094723,3.165716224094723,3.165716224094723,3.165716224094723,3.165716224094723,3.165716224094723,3.165716224094723,3.165716224094723,3.165716224094723,3.165716224094723,3.165716224094723,3.165716224094723,3.165716224094723,3.165716224094723,3.165716224094723,3.165716224094723,3.165716224094723,3.165716224094723,3.165716224094723,3.165716224094723,3.165716224094723,3.165716224094723,3.165716224094723,3.165716224094723,3.165716224094723,3.165716224094723,3.165716224094723,3.165716224094723,3.165716224094723,3.165716224094723,3.165716224094723,3.165716224094723,3.165716224094723,3.165716224094723,3.165716224094723,3.165716224094723,3.165716224094723,3.165716224094723,3.165716224094723,3.165716224094723,3.165716224094723,3.165716224094723,3.165716224094723,3.165716224094723,3.165716224094723,3.165716224094723,3.165716224094723,3.165716224094723,3.165716224094723,3.165716224094723,3.165716224094723,3.165716224094723,3.165716224094723,3.165716224094723,3.165716224094723,3.165716224094723,3.165716224094723,3.165716224094723,3.165716224094723,3.165716224094723,3.165716224094723,3.165716224094723,3.165716224094723,3.165716224094723,3.165716224094723,3.165716224094723,3.165716224094723,3.165716224094723,3.165716224094723,3.165716224094723,3.165716224094723,3.6437791927876795,3.6437791927876795,3.6437791927876795,3.6437791927876795,3.6437791927876795,3.739391786526271,3.739391786526271,3.739391786526271,3.8350043802648623,3.9306169740034536,3.9306169740034536,3.9306169740034536,4.026229567742045,4.026229567742045,4.026229567742045,4.121842161480636,4.121842161480636,4.121842161480636,4.217454755219228,4.217454755219228,4.217454755219228,4.313067348957819,4.313067348957819,4.313067348957819,4.313067348957819,4.313067348957819,4.40867994269641,4.504292536435002,4.504292536435002,4.504292536435002,4.5999051301735925,4.5999051301735925,4.5999051301735925,4.5999051301735925,4.695517723912184,4.791130317650776,4.791130317650776,4.791130317650776,4.791130317650776,4.791130317650776,4.8867429113893674,4.8867429113893674,4.8867429113893674,4.8867429113893674,4.8867429113893674,4.982355505127958,4.982355505127958,5.07796809886655,5.07796809886655,5.07796809886655,5.07796809886655,5.07796809886655,5.07796809886655,5.173580692605141,5.269193286343732,5.269193286343732,5.269193286343732,5.269193286343732,5.364805880082324,5.364805880082324,5.460418473820916,5.460418473820916,5.556031067559506,5.556031067559506,5.556031067559506,5.556031067559506,5.556031067559506,5.556031067559506,5.556031067559506,5.651643661298097,5.651643661298097,5.651643661298097,5.651643661298097,5.651643661298097,5.651643661298097,5.651643661298097,5.747256255036689,5.747256255036689,5.747256255036689,5.747256255036689,5.747256255036689,5.8428688487752805,5.8428688487752805,5.938481442513872,5.938481442513872,6.034094036252463,6.034094036252463,6.1297066299910545,6.320931817468237,6.320931817468237,6.320931817468237,6.416544411206829,6.416544411206829,6.51215700494542,6.51215700494542,6.607769598684011,6.607769598684011,6.607769598684011,6.607769598684011,6.607769598684011,6.607769598684011,6.607769598684011,6.703382192422602,6.7989947861611935,6.7989947861611935,6.7989947861611935,6.894607379899785,6.894607379899785,6.990219973638377,6.990219973638377,6.990219973638377,6.990219973638377,6.990219973638377],\"yaxis\":\"y\",\"type\":\"scatter\"},{\"hovertemplate\":\"Category=Books\\u003cbr\\u003eDiscount (%)=%{x}\\u003cbr\\u003eUnits Sold=%{y}\\u003cextra\\u003e\\u003c\\u002fextra\\u003e\",\"legendgroup\":\"Books\",\"marker\":{\"color\":\"#EF553B\",\"symbol\":\"circle\"},\"mode\":\"markers\",\"name\":\"Books\",\"orientation\":\"v\",\"showlegend\":true,\"x\":[32,0,38,0,0,30,0,0,0,0,18,21,12,28,0,0,0,19,29,28,9,18,0,0,0,27,14,0,13,0,0,0,0,8,8,29,0,0,0,0,0,0,21,0,0,0,24,16,14,0,21,8,0,0,15,34,34,40,0,0,29,5,0,0,37,0,0,5,0,0,0,0,31,24,0,0,30,14,9,36,26,0,0,0,0,0,0,35,0,40,0,0,0,15,36,0,0,0,0,0,0,13,10,0,28,25,0,0,24,14,0,0,0,0,0,0,31,0,25,20,17,0,25,0,0,17,22,24,18,40,0,37,0,0,30,0,0,19,0,0,13,0,0,0,35,25,0,30,0,0,0,0,0,9,0,0,15,0,13,0,0,0,0,0,0,35,0,0,0,24,0,0,0,0,11,5,0,0,0,10,6,12,40,0,0,0,32,0,21,13,0,30,17,0,0,0,15,0,0,0,0,0,0,0,0,0,21,39,0,0,0,0,32,0,32,0,10,0,36,0,10,0,11],\"xaxis\":\"x\",\"y\":[4,1,5,1,1,6,5,3,1,5,5,9,4,7,6,7,5,4,5,8,1,1,2,3,5,7,2,3,5,4,5,3,3,5,4,6,5,1,2,2,4,3,8,2,5,2,6,5,3,2,5,2,3,2,4,7,7,4,4,5,6,5,6,1,7,1,4,4,3,1,5,4,7,7,6,2,9,4,1,6,7,3,5,3,4,2,1,7,4,6,1,1,1,1,7,5,3,5,2,3,2,6,6,2,7,9,5,6,8,2,1,2,2,3,6,6,8,6,8,3,6,5,4,7,5,4,5,11,1,5,5,9,5,5,5,1,5,5,4,5,3,5,5,2,6,8,4,8,6,2,2,1,5,7,4,5,2,2,5,1,5,5,5,4,2,6,5,5,2,5,6,1,2,2,5,5,1,2,3,4,5,3,4,1,3,3,8,5,7,4,4,7,2,3,3,3,5,3,4,5,5,5,3,4,2,3,5,9,1,4,5,2,6,2,5,5,2,4,7,5,2,2,4],\"yaxis\":\"y\",\"type\":\"scatter\"},{\"hovertemplate\":\"\\u003cb\\u003eOLS trendline\\u003c\\u002fb\\u003e\\u003cbr\\u003eUnitsSold = 0.0924513 * DiscountPercentage + 3.35944\\u003cbr\\u003eR\\u003csup\\u003e2\\u003c\\u002fsup\\u003e=0.313950\\u003cbr\\u003e\\u003cbr\\u003eCategory=Books\\u003cbr\\u003eDiscount (%)=%{x}\\u003cbr\\u003eUnits Sold=%{y} \\u003cb\\u003e(trend)\\u003c\\u002fb\\u003e\\u003cextra\\u003e\\u003c\\u002fextra\\u003e\",\"legendgroup\":\"Books\",\"marker\":{\"color\":\"#EF553B\",\"symbol\":\"circle\"},\"mode\":\"lines\",\"name\":\"Books\",\"showlegend\":false,\"x\":[0,0,0,0,0,0,0,0,0,0,0,0,0,0,0,0,0,0,0,0,0,0,0,0,0,0,0,0,0,0,0,0,0,0,0,0,0,0,0,0,0,0,0,0,0,0,0,0,0,0,0,0,0,0,0,0,0,0,0,0,0,0,0,0,0,0,0,0,0,0,0,0,0,0,0,0,0,0,0,0,0,0,0,0,0,0,0,0,0,0,0,0,0,0,0,0,0,0,0,0,0,0,0,0,0,0,0,0,0,0,0,0,0,0,0,0,0,0,0,0,0,0,0,0,0,0,0,0,0,0,0,0,5,5,5,6,8,8,8,9,9,9,10,10,10,10,11,11,12,12,13,13,13,13,13,14,14,14,14,15,15,15,15,16,17,17,17,18,18,18,19,19,20,21,21,21,21,21,22,24,24,24,24,24,25,25,25,25,26,27,28,28,28,29,29,29,30,30,30,30,30,31,31,32,32,32,32,34,34,35,35,35,36,36,36,37,37,38,39,40,40,40,40],\"xaxis\":\"x\",\"y\":[3.359443587331452,3.359443587331452,3.359443587331452,3.359443587331452,3.359443587331452,3.359443587331452,3.359443587331452,3.359443587331452,3.359443587331452,3.359443587331452,3.359443587331452,3.359443587331452,3.359443587331452,3.359443587331452,3.359443587331452,3.359443587331452,3.359443587331452,3.359443587331452,3.359443587331452,3.359443587331452,3.359443587331452,3.359443587331452,3.359443587331452,3.359443587331452,3.359443587331452,3.359443587331452,3.359443587331452,3.359443587331452,3.359443587331452,3.359443587331452,3.359443587331452,3.359443587331452,3.359443587331452,3.359443587331452,3.359443587331452,3.359443587331452,3.359443587331452,3.359443587331452,3.359443587331452,3.359443587331452,3.359443587331452,3.359443587331452,3.359443587331452,3.359443587331452,3.359443587331452,3.359443587331452,3.359443587331452,3.359443587331452,3.359443587331452,3.359443587331452,3.359443587331452,3.359443587331452,3.359443587331452,3.359443587331452,3.359443587331452,3.359443587331452,3.359443587331452,3.359443587331452,3.359443587331452,3.359443587331452,3.359443587331452,3.359443587331452,3.359443587331452,3.359443587331452,3.359443587331452,3.359443587331452,3.359443587331452,3.359443587331452,3.359443587331452,3.359443587331452,3.359443587331452,3.359443587331452,3.359443587331452,3.359443587331452,3.359443587331452,3.359443587331452,3.359443587331452,3.359443587331452,3.359443587331452,3.359443587331452,3.359443587331452,3.359443587331452,3.359443587331452,3.359443587331452,3.359443587331452,3.359443587331452,3.359443587331452,3.359443587331452,3.359443587331452,3.359443587331452,3.359443587331452,3.359443587331452,3.359443587331452,3.359443587331452,3.359443587331452,3.359443587331452,3.359443587331452,3.359443587331452,3.359443587331452,3.359443587331452,3.359443587331452,3.359443587331452,3.359443587331452,3.359443587331452,3.359443587331452,3.359443587331452,3.359443587331452,3.359443587331452,3.359443587331452,3.359443587331452,3.359443587331452,3.359443587331452,3.359443587331452,3.359443587331452,3.359443587331452,3.359443587331452,3.359443587331452,3.359443587331452,3.359443587331452,3.359443587331452,3.359443587331452,3.359443587331452,3.359443587331452,3.359443587331452,3.359443587331452,3.359443587331452,3.359443587331452,3.359443587331452,3.359443587331452,3.359443587331452,3.359443587331452,3.359443587331452,3.8217000940733783,3.8217000940733783,3.8217000940733783,3.9141513954217637,4.099053998118534,4.099053998118534,4.099053998118534,4.191505299466919,4.191505299466919,4.191505299466919,4.283956600815305,4.283956600815305,4.283956600815305,4.283956600815305,4.37640790216369,4.37640790216369,4.468859203512075,4.468859203512075,4.56131050486046,4.56131050486046,4.56131050486046,4.56131050486046,4.56131050486046,4.653761806208846,4.653761806208846,4.653761806208846,4.653761806208846,4.746213107557231,4.746213107557231,4.746213107557231,4.746213107557231,4.8386644089056166,4.9311157102540015,4.9311157102540015,4.9311157102540015,5.0235670116023865,5.0235670116023865,5.0235670116023865,5.1160183129507715,5.1160183129507715,5.208469614299157,5.300920915647542,5.300920915647542,5.300920915647542,5.300920915647542,5.300920915647542,5.393372216995928,5.578274819692698,5.578274819692698,5.578274819692698,5.578274819692698,5.578274819692698,5.670726121041083,5.670726121041083,5.670726121041083,5.670726121041083,5.763177422389468,5.855628723737854,5.94808002508624,5.94808002508624,5.94808002508624,6.040531326434625,6.040531326434625,6.040531326434625,6.13298262778301,6.13298262778301,6.13298262778301,6.13298262778301,6.13298262778301,6.225433929131395,6.225433929131395,6.31788523047978,6.31788523047978,6.31788523047978,6.31788523047978,6.5027878331765505,6.5027878331765505,6.595239134524936,6.595239134524936,6.595239134524936,6.687690435873321,6.687690435873321,6.687690435873321,6.780141737221706,6.780141737221706,6.872593038570091,6.965044339918476,7.057495641266862,7.057495641266862,7.057495641266862,7.057495641266862],\"yaxis\":\"y\",\"type\":\"scatter\"},{\"hovertemplate\":\"Category=Electronics\\u003cbr\\u003eDiscount (%)=%{x}\\u003cbr\\u003eUnits Sold=%{y}\\u003cextra\\u003e\\u003c\\u002fextra\\u003e\",\"legendgroup\":\"Electronics\",\"marker\":{\"color\":\"#00cc96\",\"symbol\":\"circle\"},\"mode\":\"markers\",\"name\":\"Electronics\",\"orientation\":\"v\",\"showlegend\":true,\"x\":[36,0,0,0,39,0,0,0,0,0,0,0,17,0,37,26,0,36,0,0,0,0,0,0,37,0,0,22,0,0,0,0,27,25,0,21,19,7,0,0,0,5,0,0,0,11,0,0,0,8,28,0,8,0,20,30,21,0,0,0,16,0,12,0,10,0,0,0,0,29,0,29,27,0,40,33,0,0,23,0,13,0,0,27,13,5,0,35,0,0,0,31,18,0,24,40,0,5,0,0,0,0,0,21,34,0,0,0,11,0,0,0,6,0,39,0,23,0,0,16,0,0,33,28,23,10,0,0,19,37,8,0,0,0,38,0,8,0,0,0,14,12,7,6,0,24,0,0,27,0,0,0,0,11,22,36,0,38,0,0,0,0,0,0,0,0,0,6,33,0,0,33,20,37,0,23,0,0,18,0,33,40,19,0,0,0,0,10,0,22,9,0,0,0,0,24,29,0,0,0,0,0,30,23,15,0,0,14,0,27,8,36,6,0,34,16,7,0,0,22,40,0,0,0,18,0,0,0,28,29,27,0,0,0,31,24,18,0,21,13,18,0,0,37,26,25,5,0,6,0,0,0,18,10,17,23,0,0,0,17,0,26,0,0,0,0,6,0,22,37,0,10,16,0,10,0,40,0,0,0,30,8,0,0,0,16,0,0,0,0,0,0,0,0,13,31,10,0,16,21,38,0,0,0,0,17,30,0,0,20,0,0,10,0,0,0,0,13,0,0,39,0,36,0,0,10,0,0,0,0,0,11,0,0,0,0,15,0,0,0,0,0,0,29,0,14,0,40,0,0,21,0,0,0,0,0,14],\"xaxis\":\"x\",\"y\":[11,2,1,3,7,2,5,4,2,2,6,4,4,1,4,7,5,4,5,3,7,4,1,1,6,4,5,6,4,4,3,3,5,10,5,6,2,2,8,4,4,7,4,4,2,4,1,2,4,8,5,4,9,8,4,8,8,7,4,2,5,5,3,2,5,4,3,3,12,8,7,7,8,5,7,5,3,6,6,4,3,3,5,8,6,5,2,6,2,2,6,7,5,6,8,6,3,3,4,2,1,7,4,5,5,5,4,4,4,7,6,7,1,4,6,3,4,2,8,4,3,2,8,6,9,9,10,2,4,8,5,4,1,6,9,6,1,3,3,6,11,4,3,4,4,12,5,7,4,2,1,6,5,5,6,7,4,10,1,4,3,4,3,3,4,5,1,3,4,5,2,6,3,7,6,8,5,3,5,2,6,5,2,2,1,7,6,8,10,6,6,5,4,5,3,9,7,1,4,3,6,4,4,11,6,4,2,5,4,8,3,8,2,1,7,4,1,2,3,5,5,1,3,2,7,3,3,4,13,4,4,9,6,8,3,6,4,1,6,3,6,2,5,7,8,8,2,2,6,6,3,5,4,6,4,7,3,8,5,4,4,9,6,5,3,5,4,2,5,10,5,1,5,3,7,8,7,3,3,5,3,4,3,4,4,3,1,10,10,7,6,5,5,6,7,5,2,6,1,11,9,8,2,5,4,6,7,5,5,3,2,2,2,3,7,7,3,7,2,3,6,4,8,2,7,4,6,5,3,4,3,5,1,1,1,3,10,3,3,3,4,7,4,6,5,7,6,9,2,3,7,5,2,3,2,2,6],\"yaxis\":\"y\",\"type\":\"scatter\"},{\"hovertemplate\":\"\\u003cb\\u003eOLS trendline\\u003c\\u002fb\\u003e\\u003cbr\\u003eUnitsSold = 0.0841431 * DiscountPercentage + 4.00517\\u003cbr\\u003eR\\u003csup\\u003e2\\u003c\\u002fsup\\u003e=0.196990\\u003cbr\\u003e\\u003cbr\\u003eCategory=Electronics\\u003cbr\\u003eDiscount (%)=%{x}\\u003cbr\\u003eUnits Sold=%{y} \\u003cb\\u003e(trend)\\u003c\\u002fb\\u003e\\u003cextra\\u003e\\u003c\\u002fextra\\u003e\",\"legendgroup\":\"Electronics\",\"marker\":{\"color\":\"#00cc96\",\"symbol\":\"circle\"},\"mode\":\"lines\",\"name\":\"Electronics\",\"showlegend\":false,\"x\":[0,0,0,0,0,0,0,0,0,0,0,0,0,0,0,0,0,0,0,0,0,0,0,0,0,0,0,0,0,0,0,0,0,0,0,0,0,0,0,0,0,0,0,0,0,0,0,0,0,0,0,0,0,0,0,0,0,0,0,0,0,0,0,0,0,0,0,0,0,0,0,0,0,0,0,0,0,0,0,0,0,0,0,0,0,0,0,0,0,0,0,0,0,0,0,0,0,0,0,0,0,0,0,0,0,0,0,0,0,0,0,0,0,0,0,0,0,0,0,0,0,0,0,0,0,0,0,0,0,0,0,0,0,0,0,0,0,0,0,0,0,0,0,0,0,0,0,0,0,0,0,0,0,0,0,0,0,0,0,0,0,0,0,0,0,0,0,0,0,0,0,0,0,0,0,0,0,0,0,0,0,0,0,0,0,0,0,0,0,0,0,0,0,0,0,0,0,0,0,0,0,0,0,0,0,0,0,0,0,0,0,5,5,5,5,6,6,6,6,6,6,7,7,7,8,8,8,8,8,8,9,10,10,10,10,10,10,10,10,10,11,11,11,11,12,12,13,13,13,13,13,14,14,14,14,15,15,16,16,16,16,16,16,17,17,17,17,18,18,18,18,18,18,19,19,19,20,20,20,21,21,21,21,21,21,22,22,22,22,22,23,23,23,23,23,23,24,24,24,24,25,25,26,26,26,27,27,27,27,27,27,28,28,28,29,29,29,29,29,30,30,30,30,31,31,31,33,33,33,33,33,34,34,35,36,36,36,36,36,37,37,37,37,37,37,38,38,38,39,39,39,40,40,40,40,40,40],\"xaxis\":\"x\",\"y\":[4.005169701610965,4.005169701610965,4.005169701610965,4.005169701610965,4.005169701610965,4.005169701610965,4.005169701610965,4.005169701610965,4.005169701610965,4.005169701610965,4.005169701610965,4.005169701610965,4.005169701610965,4.005169701610965,4.005169701610965,4.005169701610965,4.005169701610965,4.005169701610965,4.005169701610965,4.005169701610965,4.005169701610965,4.005169701610965,4.005169701610965,4.005169701610965,4.005169701610965,4.005169701610965,4.005169701610965,4.005169701610965,4.005169701610965,4.005169701610965,4.005169701610965,4.005169701610965,4.005169701610965,4.005169701610965,4.005169701610965,4.005169701610965,4.005169701610965,4.005169701610965,4.005169701610965,4.005169701610965,4.005169701610965,4.005169701610965,4.005169701610965,4.005169701610965,4.005169701610965,4.005169701610965,4.005169701610965,4.005169701610965,4.005169701610965,4.005169701610965,4.005169701610965,4.005169701610965,4.005169701610965,4.005169701610965,4.005169701610965,4.005169701610965,4.005169701610965,4.005169701610965,4.005169701610965,4.005169701610965,4.005169701610965,4.005169701610965,4.005169701610965,4.005169701610965,4.005169701610965,4.005169701610965,4.005169701610965,4.005169701610965,4.005169701610965,4.005169701610965,4.005169701610965,4.005169701610965,4.005169701610965,4.005169701610965,4.005169701610965,4.005169701610965,4.005169701610965,4.005169701610965,4.005169701610965,4.005169701610965,4.005169701610965,4.005169701610965,4.005169701610965,4.005169701610965,4.005169701610965,4.005169701610965,4.005169701610965,4.005169701610965,4.005169701610965,4.005169701610965,4.005169701610965,4.005169701610965,4.005169701610965,4.005169701610965,4.005169701610965,4.005169701610965,4.005169701610965,4.005169701610965,4.005169701610965,4.005169701610965,4.005169701610965,4.005169701610965,4.005169701610965,4.005169701610965,4.005169701610965,4.005169701610965,4.005169701610965,4.005169701610965,4.005169701610965,4.005169701610965,4.005169701610965,4.005169701610965,4.005169701610965,4.005169701610965,4.005169701610965,4.005169701610965,4.005169701610965,4.005169701610965,4.005169701610965,4.005169701610965,4.005169701610965,4.005169701610965,4.005169701610965,4.005169701610965,4.005169701610965,4.005169701610965,4.005169701610965,4.005169701610965,4.005169701610965,4.005169701610965,4.005169701610965,4.005169701610965,4.005169701610965,4.005169701610965,4.005169701610965,4.005169701610965,4.005169701610965,4.005169701610965,4.005169701610965,4.005169701610965,4.005169701610965,4.005169701610965,4.005169701610965,4.005169701610965,4.005169701610965,4.005169701610965,4.005169701610965,4.005169701610965,4.005169701610965,4.005169701610965,4.005169701610965,4.005169701610965,4.005169701610965,4.005169701610965,4.005169701610965,4.005169701610965,4.005169701610965,4.005169701610965,4.005169701610965,4.005169701610965,4.005169701610965,4.005169701610965,4.005169701610965,4.005169701610965,4.005169701610965,4.005169701610965,4.005169701610965,4.005169701610965,4.005169701610965,4.005169701610965,4.005169701610965,4.005169701610965,4.005169701610965,4.005169701610965,4.005169701610965,4.005169701610965,4.005169701610965,4.005169701610965,4.005169701610965,4.005169701610965,4.005169701610965,4.005169701610965,4.005169701610965,4.005169701610965,4.005169701610965,4.005169701610965,4.005169701610965,4.005169701610965,4.005169701610965,4.005169701610965,4.005169701610965,4.005169701610965,4.005169701610965,4.005169701610965,4.005169701610965,4.005169701610965,4.005169701610965,4.005169701610965,4.005169701610965,4.005169701610965,4.005169701610965,4.005169701610965,4.005169701610965,4.005169701610965,4.005169701610965,4.005169701610965,4.005169701610965,4.005169701610965,4.005169701610965,4.005169701610965,4.005169701610965,4.425885318185591,4.425885318185591,4.425885318185591,4.425885318185591,4.510028441500515,4.510028441500515,4.510028441500515,4.510028441500515,4.510028441500515,4.510028441500515,4.594171564815441,4.594171564815441,4.594171564815441,4.678314688130365,4.678314688130365,4.678314688130365,4.678314688130365,4.678314688130365,4.678314688130365,4.762457811445291,4.846600934760216,4.846600934760216,4.846600934760216,4.846600934760216,4.846600934760216,4.846600934760216,4.846600934760216,4.846600934760216,4.846600934760216,4.930744058075141,4.930744058075141,4.930744058075141,4.930744058075141,5.0148871813900655,5.0148871813900655,5.099030304704991,5.099030304704991,5.099030304704991,5.099030304704991,5.099030304704991,5.183173428019916,5.183173428019916,5.183173428019916,5.183173428019916,5.267316551334841,5.267316551334841,5.3514596746497665,5.3514596746497665,5.3514596746497665,5.3514596746497665,5.3514596746497665,5.3514596746497665,5.435602797964691,5.435602797964691,5.435602797964691,5.435602797964691,5.5197459212796165,5.5197459212796165,5.5197459212796165,5.5197459212796165,5.5197459212796165,5.5197459212796165,5.603889044594542,5.603889044594542,5.603889044594542,5.6880321679094665,5.6880321679094665,5.6880321679094665,5.772175291224391,5.772175291224391,5.772175291224391,5.772175291224391,5.772175291224391,5.772175291224391,5.856318414539317,5.856318414539317,5.856318414539317,5.856318414539317,5.856318414539317,5.940461537854242,5.940461537854242,5.940461537854242,5.940461537854242,5.940461537854242,5.940461537854242,6.024604661169167,6.024604661169167,6.024604661169167,6.024604661169167,6.108747784484091,6.108747784484091,6.192890907799017,6.192890907799017,6.192890907799017,6.277034031113942,6.277034031113942,6.277034031113942,6.277034031113942,6.277034031113942,6.277034031113942,6.3611771544288676,6.3611771544288676,6.3611771544288676,6.445320277743792,6.445320277743792,6.445320277743792,6.445320277743792,6.445320277743792,6.529463401058717,6.529463401058717,6.529463401058717,6.529463401058717,6.613606524373642,6.613606524373642,6.613606524373642,6.781892771003492,6.781892771003492,6.781892771003492,6.781892771003492,6.781892771003492,6.866035894318417,6.866035894318417,6.950179017633342,7.034322140948268,7.034322140948268,7.034322140948268,7.034322140948268,7.034322140948268,7.118465264263192,7.118465264263192,7.118465264263192,7.118465264263192,7.118465264263192,7.118465264263192,7.202608387578118,7.202608387578118,7.202608387578118,7.286751510893042,7.286751510893042,7.286751510893042,7.370894634207968,7.370894634207968,7.370894634207968,7.370894634207968,7.370894634207968,7.370894634207968],\"yaxis\":\"y\",\"type\":\"scatter\"},{\"hovertemplate\":\"Category=Fashion\\u003cbr\\u003eDiscount (%)=%{x}\\u003cbr\\u003eUnits Sold=%{y}\\u003cextra\\u003e\\u003c\\u002fextra\\u003e\",\"legendgroup\":\"Fashion\",\"marker\":{\"color\":\"#ab63fa\",\"symbol\":\"circle\"},\"mode\":\"markers\",\"name\":\"Fashion\",\"orientation\":\"v\",\"showlegend\":true,\"x\":[31,0,24,0,0,36,0,29,10,23,15,0,0,27,7,0,22,0,0,0,0,34,17,34,0,38,30,0,24,32,0,10,0,30,10,18,0,12,0,0,0,33,19,0,0,12,0,16,31,0,0,0,40,11,14,34,0,0,25,0,0,25,0,8,27,0,26,0,0,0,39,25,0,0,29,0,20,32,22,34,33,0,0,0,0,0,0,0,0,0,6,0,20,26,0,0,0,0,31,0,13,0,0,9,21,0,11,0,10,23,18,12,0,38,14,28,12,0,40,25,0,0,0,0,0,38,28,0,0,0,0,0,35,6],\"xaxis\":\"x\",\"y\":[4,4,5,5,4,6,4,6,4,8,6,4,5,8,4,4,6,3,4,6,4,8,3,5,8,7,8,5,5,4,1,5,2,4,7,7,3,6,6,4,5,5,3,2,1,3,8,4,7,7,9,4,5,7,5,5,3,6,7,5,3,6,3,4,6,3,3,5,2,3,6,5,5,8,5,7,5,7,8,7,6,5,3,4,4,6,3,2,3,4,3,2,4,4,3,6,6,6,7,3,5,2,2,1,7,6,4,3,4,9,3,3,6,3,2,6,1,2,8,6,2,8,3,4,1,8,5,2,1,9,3,2,4,4],\"yaxis\":\"y\",\"type\":\"scatter\"},{\"hovertemplate\":\"\\u003cb\\u003eOLS trendline\\u003c\\u002fb\\u003e\\u003cbr\\u003eUnitsSold = 0.0555285 * DiscountPercentage + 4.04426\\u003cbr\\u003eR\\u003csup\\u003e2\\u003c\\u002fsup\\u003e=0.143768\\u003cbr\\u003e\\u003cbr\\u003eCategory=Fashion\\u003cbr\\u003eDiscount (%)=%{x}\\u003cbr\\u003eUnits Sold=%{y} \\u003cb\\u003e(trend)\\u003c\\u002fb\\u003e\\u003cextra\\u003e\\u003c\\u002fextra\\u003e\",\"legendgroup\":\"Fashion\",\"marker\":{\"color\":\"#ab63fa\",\"symbol\":\"circle\"},\"mode\":\"lines\",\"name\":\"Fashion\",\"showlegend\":false,\"x\":[0,0,0,0,0,0,0,0,0,0,0,0,0,0,0,0,0,0,0,0,0,0,0,0,0,0,0,0,0,0,0,0,0,0,0,0,0,0,0,0,0,0,0,0,0,0,0,0,0,0,0,0,0,0,0,0,0,0,0,0,0,0,0,0,0,0,0,0,6,6,7,8,9,10,10,10,10,11,11,12,12,12,12,13,14,14,15,16,17,18,18,19,20,20,21,22,22,23,23,24,24,25,25,25,25,26,26,27,27,28,28,29,29,30,30,31,31,31,32,32,33,33,34,34,34,34,35,36,38,38,38,39,40,40],\"xaxis\":\"x\",\"y\":[4.044256261096948,4.044256261096948,4.044256261096948,4.044256261096948,4.044256261096948,4.044256261096948,4.044256261096948,4.044256261096948,4.044256261096948,4.044256261096948,4.044256261096948,4.044256261096948,4.044256261096948,4.044256261096948,4.044256261096948,4.044256261096948,4.044256261096948,4.044256261096948,4.044256261096948,4.044256261096948,4.044256261096948,4.044256261096948,4.044256261096948,4.044256261096948,4.044256261096948,4.044256261096948,4.044256261096948,4.044256261096948,4.044256261096948,4.044256261096948,4.044256261096948,4.044256261096948,4.044256261096948,4.044256261096948,4.044256261096948,4.044256261096948,4.044256261096948,4.044256261096948,4.044256261096948,4.044256261096948,4.044256261096948,4.044256261096948,4.044256261096948,4.044256261096948,4.044256261096948,4.044256261096948,4.044256261096948,4.044256261096948,4.044256261096948,4.044256261096948,4.044256261096948,4.044256261096948,4.044256261096948,4.044256261096948,4.044256261096948,4.044256261096948,4.044256261096948,4.044256261096948,4.044256261096948,4.044256261096948,4.044256261096948,4.044256261096948,4.044256261096948,4.044256261096948,4.044256261096948,4.044256261096948,4.044256261096948,4.044256261096948,4.377427257231446,4.377427257231446,4.432955756587195,4.488484255942945,4.544012755298695,4.5995412546544445,4.5995412546544445,4.5995412546544445,4.5995412546544445,4.655069754010194,4.655069754010194,4.710598253365943,4.710598253365943,4.710598253365943,4.710598253365943,4.766126752721693,4.821655252077443,4.821655252077443,4.877183751433193,4.932712250788942,4.9882407501446915,5.043769249500441,5.043769249500441,5.099297748856191,5.154826248211941,5.154826248211941,5.21035474756769,5.26588324692344,5.26588324692344,5.321411746279189,5.321411746279189,5.376940245634939,5.376940245634939,5.432468744990689,5.432468744990689,5.432468744990689,5.432468744990689,5.487997244346438,5.487997244346438,5.543525743702188,5.543525743702188,5.599054243057937,5.599054243057937,5.654582742413687,5.654582742413687,5.710111241769436,5.710111241769436,5.765639741125186,5.765639741125186,5.765639741125186,5.821168240480936,5.821168240480936,5.876696739836685,5.876696739836685,5.9322252391924355,5.9322252391924355,5.9322252391924355,5.9322252391924355,5.987753738548184,6.043282237903934,6.154339236615433,6.154339236615433,6.154339236615433,6.209867735971184,6.265396235326932,6.265396235326932],\"yaxis\":\"y\",\"type\":\"scatter\"}],                        {\"template\":{\"data\":{\"histogram2dcontour\":[{\"type\":\"histogram2dcontour\",\"colorbar\":{\"outlinewidth\":0,\"ticks\":\"\"},\"colorscale\":[[0.0,\"#0d0887\"],[0.1111111111111111,\"#46039f\"],[0.2222222222222222,\"#7201a8\"],[0.3333333333333333,\"#9c179e\"],[0.4444444444444444,\"#bd3786\"],[0.5555555555555556,\"#d8576b\"],[0.6666666666666666,\"#ed7953\"],[0.7777777777777778,\"#fb9f3a\"],[0.8888888888888888,\"#fdca26\"],[1.0,\"#f0f921\"]]}],\"choropleth\":[{\"type\":\"choropleth\",\"colorbar\":{\"outlinewidth\":0,\"ticks\":\"\"}}],\"histogram2d\":[{\"type\":\"histogram2d\",\"colorbar\":{\"outlinewidth\":0,\"ticks\":\"\"},\"colorscale\":[[0.0,\"#0d0887\"],[0.1111111111111111,\"#46039f\"],[0.2222222222222222,\"#7201a8\"],[0.3333333333333333,\"#9c179e\"],[0.4444444444444444,\"#bd3786\"],[0.5555555555555556,\"#d8576b\"],[0.6666666666666666,\"#ed7953\"],[0.7777777777777778,\"#fb9f3a\"],[0.8888888888888888,\"#fdca26\"],[1.0,\"#f0f921\"]]}],\"heatmap\":[{\"type\":\"heatmap\",\"colorbar\":{\"outlinewidth\":0,\"ticks\":\"\"},\"colorscale\":[[0.0,\"#0d0887\"],[0.1111111111111111,\"#46039f\"],[0.2222222222222222,\"#7201a8\"],[0.3333333333333333,\"#9c179e\"],[0.4444444444444444,\"#bd3786\"],[0.5555555555555556,\"#d8576b\"],[0.6666666666666666,\"#ed7953\"],[0.7777777777777778,\"#fb9f3a\"],[0.8888888888888888,\"#fdca26\"],[1.0,\"#f0f921\"]]}],\"heatmapgl\":[{\"type\":\"heatmapgl\",\"colorbar\":{\"outlinewidth\":0,\"ticks\":\"\"},\"colorscale\":[[0.0,\"#0d0887\"],[0.1111111111111111,\"#46039f\"],[0.2222222222222222,\"#7201a8\"],[0.3333333333333333,\"#9c179e\"],[0.4444444444444444,\"#bd3786\"],[0.5555555555555556,\"#d8576b\"],[0.6666666666666666,\"#ed7953\"],[0.7777777777777778,\"#fb9f3a\"],[0.8888888888888888,\"#fdca26\"],[1.0,\"#f0f921\"]]}],\"contourcarpet\":[{\"type\":\"contourcarpet\",\"colorbar\":{\"outlinewidth\":0,\"ticks\":\"\"}}],\"contour\":[{\"type\":\"contour\",\"colorbar\":{\"outlinewidth\":0,\"ticks\":\"\"},\"colorscale\":[[0.0,\"#0d0887\"],[0.1111111111111111,\"#46039f\"],[0.2222222222222222,\"#7201a8\"],[0.3333333333333333,\"#9c179e\"],[0.4444444444444444,\"#bd3786\"],[0.5555555555555556,\"#d8576b\"],[0.6666666666666666,\"#ed7953\"],[0.7777777777777778,\"#fb9f3a\"],[0.8888888888888888,\"#fdca26\"],[1.0,\"#f0f921\"]]}],\"surface\":[{\"type\":\"surface\",\"colorbar\":{\"outlinewidth\":0,\"ticks\":\"\"},\"colorscale\":[[0.0,\"#0d0887\"],[0.1111111111111111,\"#46039f\"],[0.2222222222222222,\"#7201a8\"],[0.3333333333333333,\"#9c179e\"],[0.4444444444444444,\"#bd3786\"],[0.5555555555555556,\"#d8576b\"],[0.6666666666666666,\"#ed7953\"],[0.7777777777777778,\"#fb9f3a\"],[0.8888888888888888,\"#fdca26\"],[1.0,\"#f0f921\"]]}],\"mesh3d\":[{\"type\":\"mesh3d\",\"colorbar\":{\"outlinewidth\":0,\"ticks\":\"\"}}],\"scatter\":[{\"fillpattern\":{\"fillmode\":\"overlay\",\"size\":10,\"solidity\":0.2},\"type\":\"scatter\"}],\"parcoords\":[{\"type\":\"parcoords\",\"line\":{\"colorbar\":{\"outlinewidth\":0,\"ticks\":\"\"}}}],\"scatterpolargl\":[{\"type\":\"scatterpolargl\",\"marker\":{\"colorbar\":{\"outlinewidth\":0,\"ticks\":\"\"}}}],\"bar\":[{\"error_x\":{\"color\":\"#2a3f5f\"},\"error_y\":{\"color\":\"#2a3f5f\"},\"marker\":{\"line\":{\"color\":\"#E5ECF6\",\"width\":0.5},\"pattern\":{\"fillmode\":\"overlay\",\"size\":10,\"solidity\":0.2}},\"type\":\"bar\"}],\"scattergeo\":[{\"type\":\"scattergeo\",\"marker\":{\"colorbar\":{\"outlinewidth\":0,\"ticks\":\"\"}}}],\"scatterpolar\":[{\"type\":\"scatterpolar\",\"marker\":{\"colorbar\":{\"outlinewidth\":0,\"ticks\":\"\"}}}],\"histogram\":[{\"marker\":{\"pattern\":{\"fillmode\":\"overlay\",\"size\":10,\"solidity\":0.2}},\"type\":\"histogram\"}],\"scattergl\":[{\"type\":\"scattergl\",\"marker\":{\"colorbar\":{\"outlinewidth\":0,\"ticks\":\"\"}}}],\"scatter3d\":[{\"type\":\"scatter3d\",\"line\":{\"colorbar\":{\"outlinewidth\":0,\"ticks\":\"\"}},\"marker\":{\"colorbar\":{\"outlinewidth\":0,\"ticks\":\"\"}}}],\"scattermapbox\":[{\"type\":\"scattermapbox\",\"marker\":{\"colorbar\":{\"outlinewidth\":0,\"ticks\":\"\"}}}],\"scatterternary\":[{\"type\":\"scatterternary\",\"marker\":{\"colorbar\":{\"outlinewidth\":0,\"ticks\":\"\"}}}],\"scattercarpet\":[{\"type\":\"scattercarpet\",\"marker\":{\"colorbar\":{\"outlinewidth\":0,\"ticks\":\"\"}}}],\"carpet\":[{\"aaxis\":{\"endlinecolor\":\"#2a3f5f\",\"gridcolor\":\"white\",\"linecolor\":\"white\",\"minorgridcolor\":\"white\",\"startlinecolor\":\"#2a3f5f\"},\"baxis\":{\"endlinecolor\":\"#2a3f5f\",\"gridcolor\":\"white\",\"linecolor\":\"white\",\"minorgridcolor\":\"white\",\"startlinecolor\":\"#2a3f5f\"},\"type\":\"carpet\"}],\"table\":[{\"cells\":{\"fill\":{\"color\":\"#EBF0F8\"},\"line\":{\"color\":\"white\"}},\"header\":{\"fill\":{\"color\":\"#C8D4E3\"},\"line\":{\"color\":\"white\"}},\"type\":\"table\"}],\"barpolar\":[{\"marker\":{\"line\":{\"color\":\"#E5ECF6\",\"width\":0.5},\"pattern\":{\"fillmode\":\"overlay\",\"size\":10,\"solidity\":0.2}},\"type\":\"barpolar\"}],\"pie\":[{\"automargin\":true,\"type\":\"pie\"}]},\"layout\":{\"autotypenumbers\":\"strict\",\"colorway\":[\"#636efa\",\"#EF553B\",\"#00cc96\",\"#ab63fa\",\"#FFA15A\",\"#19d3f3\",\"#FF6692\",\"#B6E880\",\"#FF97FF\",\"#FECB52\"],\"font\":{\"color\":\"#2a3f5f\"},\"hovermode\":\"closest\",\"hoverlabel\":{\"align\":\"left\"},\"paper_bgcolor\":\"white\",\"plot_bgcolor\":\"#E5ECF6\",\"polar\":{\"bgcolor\":\"#E5ECF6\",\"angularaxis\":{\"gridcolor\":\"white\",\"linecolor\":\"white\",\"ticks\":\"\"},\"radialaxis\":{\"gridcolor\":\"white\",\"linecolor\":\"white\",\"ticks\":\"\"}},\"ternary\":{\"bgcolor\":\"#E5ECF6\",\"aaxis\":{\"gridcolor\":\"white\",\"linecolor\":\"white\",\"ticks\":\"\"},\"baxis\":{\"gridcolor\":\"white\",\"linecolor\":\"white\",\"ticks\":\"\"},\"caxis\":{\"gridcolor\":\"white\",\"linecolor\":\"white\",\"ticks\":\"\"}},\"coloraxis\":{\"colorbar\":{\"outlinewidth\":0,\"ticks\":\"\"}},\"colorscale\":{\"sequential\":[[0.0,\"#0d0887\"],[0.1111111111111111,\"#46039f\"],[0.2222222222222222,\"#7201a8\"],[0.3333333333333333,\"#9c179e\"],[0.4444444444444444,\"#bd3786\"],[0.5555555555555556,\"#d8576b\"],[0.6666666666666666,\"#ed7953\"],[0.7777777777777778,\"#fb9f3a\"],[0.8888888888888888,\"#fdca26\"],[1.0,\"#f0f921\"]],\"sequentialminus\":[[0.0,\"#0d0887\"],[0.1111111111111111,\"#46039f\"],[0.2222222222222222,\"#7201a8\"],[0.3333333333333333,\"#9c179e\"],[0.4444444444444444,\"#bd3786\"],[0.5555555555555556,\"#d8576b\"],[0.6666666666666666,\"#ed7953\"],[0.7777777777777778,\"#fb9f3a\"],[0.8888888888888888,\"#fdca26\"],[1.0,\"#f0f921\"]],\"diverging\":[[0,\"#8e0152\"],[0.1,\"#c51b7d\"],[0.2,\"#de77ae\"],[0.3,\"#f1b6da\"],[0.4,\"#fde0ef\"],[0.5,\"#f7f7f7\"],[0.6,\"#e6f5d0\"],[0.7,\"#b8e186\"],[0.8,\"#7fbc41\"],[0.9,\"#4d9221\"],[1,\"#276419\"]]},\"xaxis\":{\"gridcolor\":\"white\",\"linecolor\":\"white\",\"ticks\":\"\",\"title\":{\"standoff\":15},\"zerolinecolor\":\"white\",\"automargin\":true,\"zerolinewidth\":2},\"yaxis\":{\"gridcolor\":\"white\",\"linecolor\":\"white\",\"ticks\":\"\",\"title\":{\"standoff\":15},\"zerolinecolor\":\"white\",\"automargin\":true,\"zerolinewidth\":2},\"scene\":{\"xaxis\":{\"backgroundcolor\":\"#E5ECF6\",\"gridcolor\":\"white\",\"linecolor\":\"white\",\"showbackground\":true,\"ticks\":\"\",\"zerolinecolor\":\"white\",\"gridwidth\":2},\"yaxis\":{\"backgroundcolor\":\"#E5ECF6\",\"gridcolor\":\"white\",\"linecolor\":\"white\",\"showbackground\":true,\"ticks\":\"\",\"zerolinecolor\":\"white\",\"gridwidth\":2},\"zaxis\":{\"backgroundcolor\":\"#E5ECF6\",\"gridcolor\":\"white\",\"linecolor\":\"white\",\"showbackground\":true,\"ticks\":\"\",\"zerolinecolor\":\"white\",\"gridwidth\":2}},\"shapedefaults\":{\"line\":{\"color\":\"#2a3f5f\"}},\"annotationdefaults\":{\"arrowcolor\":\"#2a3f5f\",\"arrowhead\":0,\"arrowwidth\":1},\"geo\":{\"bgcolor\":\"white\",\"landcolor\":\"#E5ECF6\",\"subunitcolor\":\"white\",\"showland\":true,\"showlakes\":true,\"lakecolor\":\"white\"},\"title\":{\"x\":0.05},\"mapbox\":{\"style\":\"light\"}}},\"xaxis\":{\"anchor\":\"y\",\"domain\":[0.0,1.0],\"title\":{\"text\":\"Discount (%)\"}},\"yaxis\":{\"anchor\":\"x\",\"domain\":[0.0,1.0],\"title\":{\"text\":\"Units Sold\"}},\"legend\":{\"title\":{\"text\":\"Category\"},\"tracegroupgap\":0},\"title\":{\"text\":\"Discount Percentage vs. Units Sold\"}},                        {\"responsive\": true}                    ).then(function(){\n",
              "                            \n",
              "var gd = document.getElementById('c2f3eebf-8091-4ac3-bbe4-256f7b398de0');\n",
              "var x = new MutationObserver(function (mutations, observer) {{\n",
              "        var display = window.getComputedStyle(gd).display;\n",
              "        if (!display || display === 'none') {{\n",
              "            console.log([gd, 'removed!']);\n",
              "            Plotly.purge(gd);\n",
              "            observer.disconnect();\n",
              "        }}\n",
              "}});\n",
              "\n",
              "// Listen for the removal of the full notebook cells\n",
              "var notebookContainer = gd.closest('#notebook-container');\n",
              "if (notebookContainer) {{\n",
              "    x.observe(notebookContainer, {childList: true});\n",
              "}}\n",
              "\n",
              "// Listen for the clearing of the current output cell\n",
              "var outputEl = gd.closest('.output');\n",
              "if (outputEl) {{\n",
              "    x.observe(outputEl, {childList: true});\n",
              "}}\n",
              "\n",
              "                        })                };                            </script>        </div>\n",
              "</body>\n",
              "</html>"
            ]
          },
          "metadata": {}
        },
        {
          "output_type": "stream",
          "name": "stdout",
          "text": [
            "In the scatter plot above, you can see that as the discount increases, the trend for Units Sold also goes up.\n"
          ]
        }
      ]
    },
    {
      "cell_type": "code",
      "source": [
        "# ==========================================================\n",
        "# DEBUGGING CELL FOR STEP 5\n",
        "# Is cell ko alag se chala kar check karein\n",
        "# ==========================================================\n",
        "\n",
        "# Pehle, yeh confirm karein ki aapki file sahi se load hui hai\n",
        "# (Apna file path yahan sahi se daalein)\n",
        "file_path = '/content/drive/MyDrive/indian_ecommerce_sales.csv' # <-- CHECK YOUR PATH HERE\n",
        "\n",
        "try:\n",
        "    # CSV file dobara load karke check karte hain\n",
        "    df = pd.read_csv(file_path)\n",
        "    df['DiscountPercentage'] = df['DiscountPercentage'].fillna(0) # Agar koi NaN value hai to use 0 kar de\n",
        "    df['UnitsSold'] = df['UnitsSold'].fillna(0)\n",
        "\n",
        "    print(\"CSV file successfully loaded for debugging.\")\n",
        "\n",
        "    # Ab data groups check karte hain\n",
        "    discounted_sales = df[df['DiscountPercentage'] > 0]['UnitsSold']\n",
        "    non_discounted_sales = df[df['DiscountPercentage'] == 0]['UnitsSold']\n",
        "\n",
        "    print(\"\\n--- DATA CHECK ---\")\n",
        "    print(f\"Total sales entries WITH a discount: {len(discounted_sales)}\")\n",
        "    print(f\"Total sales entries WITHOUT a discount: {len(non_discounted_sales)}\")\n",
        "\n",
        "    if len(discounted_sales) < 2 or len(non_discounted_sales) < 2:\n",
        "        print(\"\\n****************************************************************\")\n",
        "        print(\"PROBLEM MIL GAYA: T-Test chalane ke liye dono groups (discounted aur non-discounted) mein kam se kam 2 items hone chahiye.\")\n",
        "        print(\"Aapke data mein ek group khaali hai ya usmein sirf 1 item hai.\")\n",
        "        print(\"\\nSOLUTION: Apni `sales_data.csv` file ko us 'Advanced Prompt' se dobara banayein jo maine diya tha, taaki usmein dono tarah ka data (discounted aur non-discounted) maujood ho.\")\n",
        "        print(\"****************************************************************\")\n",
        "    else:\n",
        "        print(\"\\nGOOD NEWS: Aapke data mein T-test ke liye paryaapt entries hain. Problem data mein nahi, kahin aur hai.\")\n",
        "        print(\"Please ab apna poora 'red color' wala error message zaroor bhejein.\")\n",
        "\n",
        "except FileNotFoundError:\n",
        "    print(\"ERROR: File not found! Please check the file_path variable. Kya aapne Step 1 theek se chalaya tha?\")\n",
        "except Exception as e:\n",
        "    print(f\"An unexpected error occurred while checking the data: {e}\")"
      ],
      "metadata": {
        "colab": {
          "base_uri": "https://localhost:8080/"
        },
        "id": "fubbn1UcS5ch",
        "outputId": "ccd8d5c8-320c-42a7-cd0d-7023c1859c55"
      },
      "execution_count": 26,
      "outputs": [
        {
          "output_type": "stream",
          "name": "stdout",
          "text": [
            "CSV file successfully loaded for debugging.\n",
            "\n",
            "--- DATA CHECK ---\n",
            "Total sales entries WITH a discount: 416\n",
            "Total sales entries WITHOUT a discount: 584\n",
            "\n",
            "GOOD NEWS: Aapke data mein T-test ke liye paryaapt entries hain. Problem data mein nahi, kahin aur hai.\n",
            "Please ab apna poora 'red color' wala error message zaroor bhejein.\n"
          ]
        }
      ]
    },
    {
      "cell_type": "code",
      "source": [
        "# ==============================================================================\n",
        "# STEP 6: MACHINE LEARNING - SALES FORECASTING MODEL (XGBoost)\n",
        "# ==============================================================================\n",
        "# Now, we will build a model to predict future sales.\n",
        "\n",
        "# 1. Prepare the data for time-series forecasting (aggregate sales by day)\n",
        "df_daily = df.set_index('Date').groupby(pd.Grouper(freq='D'))['SaleAmount'].sum().reset_index()\n",
        "df_daily = df_daily.set_index('Date')\n",
        "df_daily = df_daily[df_daily['SaleAmount'] > 0] # Remove days with zero sales\n",
        "\n",
        "print(\"Daily aggregated sales data for forecasting:\")\n",
        "print(df_daily.head())\n",
        "\n",
        "# 2. Create time-series features\n",
        "def create_features(df):\n",
        "    df = df.copy()\n",
        "    df['dayofweek'] = df.index.dayofweek\n",
        "    df['quarter'] = df.index.quarter\n",
        "    df['month'] = df.index.month\n",
        "    df['year'] = df.index.year\n",
        "    df['dayofyear'] = df.index.dayofyear\n",
        "    return df\n",
        "\n",
        "df_daily_features = create_features(df_daily)\n",
        "\n",
        "# 3. Define features (X) and target (y)\n",
        "X = df_daily_features.drop('SaleAmount', axis=1)\n",
        "y = df_daily_features['SaleAmount']\n",
        "\n",
        "# 4. Split data into training and testing sets\n",
        "# For time-series data, the split must be chronological, not random.\n",
        "split_date = '2024-09-01'\n",
        "X_train, X_test = X[:split_date], X[split_date:]\n",
        "y_train, y_test = y[:split_date], y[split_date:]\n",
        "\n",
        "# 5. Train the XGBoost model\n",
        "model = xgb.XGBRegressor(\n",
        "    n_estimators=1000,\n",
        "    learning_rate=0.01,\n",
        "    early_stopping_rounds=50,\n",
        "    objective='reg:squarederror'\n",
        ")\n",
        "\n",
        "print(\"\\nTraining the XGBoost model...\")\n",
        "model.fit(X_train, y_train,\n",
        "          eval_set=[(X_train, y_train), (X_test, y_test)],\n",
        "          verbose=100) # This will print the evaluation metric every 100 rounds\n",
        "\n",
        "# 6. Make predictions on the test set\n",
        "y_pred = model.predict(X_test)\n",
        "\n",
        "# 7. Evaluate the model\n",
        "mae = mean_absolute_error(y_test, y_pred)\n",
        "r2 = r2_score(y_test, y_pred)\n",
        "print(f\"\\nModel Evaluation:\")\n",
        "print(f\"Mean Absolute Error (MAE): {mae:,.2f} INR\")\n",
        "print(f\"R-squared (R2 Score): {r2:.2f}\")\n",
        "\n",
        "# 8. Visualize the results\n",
        "results_df = pd.DataFrame({'Actual Sales': y_test, 'Predicted Sales': y_pred})\n",
        "fig = go.Figure()\n",
        "fig.add_trace(go.Scatter(x=results_df.index, y=results_df['Actual Sales'], mode='lines', name='Actual Sales'))\n",
        "fig.add_trace(go.Scatter(x=results_df.index, y=results_df['Predicted Sales'], mode='lines', name='Predicted Sales', line=dict(dash='dash')))\n",
        "fig.update_layout(title='Actual vs. Predicted Sales Forecast', xaxis_title='Date', yaxis_title='Sales (INR)')\n",
        "fig.show()"
      ],
      "metadata": {
        "colab": {
          "base_uri": "https://localhost:8080/",
          "height": 834
        },
        "id": "hdoLRus8S-0K",
        "outputId": "05665394-2459-4101-b4d6-9b71253b36d3"
      },
      "execution_count": 24,
      "outputs": [
        {
          "output_type": "stream",
          "name": "stdout",
          "text": [
            "Daily aggregated sales data for forecasting:\n",
            "             SaleAmount\n",
            "Date                   \n",
            "2023-01-01  319562.9160\n",
            "2023-01-02   58063.7600\n",
            "2023-01-03   11512.9371\n",
            "2023-01-04  428475.2416\n",
            "2023-01-06   71456.1400\n",
            "\n",
            "Training the XGBoost model...\n",
            "[0]\tvalidation_0-rmse:167394.72109\tvalidation_1-rmse:183599.56014\n",
            "[93]\tvalidation_0-rmse:134629.41375\tvalidation_1-rmse:181148.13208\n",
            "\n",
            "Model Evaluation:\n",
            "Mean Absolute Error (MAE): 132,799.38 INR\n",
            "R-squared (R2 Score): 0.07\n"
          ]
        },
        {
          "output_type": "display_data",
          "data": {
            "text/html": [
              "<html>\n",
              "<head><meta charset=\"utf-8\" /></head>\n",
              "<body>\n",
              "    <div>            <script src=\"https://cdnjs.cloudflare.com/ajax/libs/mathjax/2.7.5/MathJax.js?config=TeX-AMS-MML_SVG\"></script><script type=\"text/javascript\">if (window.MathJax && window.MathJax.Hub && window.MathJax.Hub.Config) {window.MathJax.Hub.Config({SVG: {font: \"STIX-Web\"}});}</script>                <script type=\"text/javascript\">window.PlotlyConfig = {MathJaxConfig: 'local'};</script>\n",
              "        <script charset=\"utf-8\" src=\"https://cdn.plot.ly/plotly-2.35.2.min.js\"></script>                <div id=\"5d5c73e0-b2ed-4668-bb66-641171bebe68\" class=\"plotly-graph-div\" style=\"height:525px; width:100%;\"></div>            <script type=\"text/javascript\">                                    window.PLOTLYENV=window.PLOTLYENV || {};                                    if (document.getElementById(\"5d5c73e0-b2ed-4668-bb66-641171bebe68\")) {                    Plotly.newPlot(                        \"5d5c73e0-b2ed-4668-bb66-641171bebe68\",                        [{\"mode\":\"lines\",\"name\":\"Actual Sales\",\"x\":[\"2024-09-01T00:00:00\",\"2024-09-02T00:00:00\",\"2024-09-03T00:00:00\",\"2024-09-05T00:00:00\",\"2024-09-06T00:00:00\",\"2024-09-08T00:00:00\",\"2024-09-09T00:00:00\",\"2024-09-10T00:00:00\",\"2024-09-11T00:00:00\",\"2024-09-12T00:00:00\",\"2024-09-13T00:00:00\",\"2024-09-15T00:00:00\",\"2024-09-16T00:00:00\",\"2024-09-17T00:00:00\",\"2024-09-18T00:00:00\",\"2024-09-19T00:00:00\",\"2024-09-22T00:00:00\",\"2024-09-25T00:00:00\",\"2024-09-26T00:00:00\",\"2024-09-27T00:00:00\",\"2024-09-28T00:00:00\",\"2024-09-29T00:00:00\",\"2024-09-30T00:00:00\",\"2024-10-02T00:00:00\",\"2024-10-03T00:00:00\",\"2024-10-04T00:00:00\",\"2024-10-05T00:00:00\",\"2024-10-06T00:00:00\",\"2024-10-08T00:00:00\",\"2024-10-10T00:00:00\",\"2024-10-11T00:00:00\",\"2024-10-12T00:00:00\",\"2024-10-14T00:00:00\",\"2024-10-15T00:00:00\",\"2024-10-16T00:00:00\",\"2024-10-17T00:00:00\",\"2024-10-18T00:00:00\",\"2024-10-20T00:00:00\",\"2024-10-22T00:00:00\",\"2024-10-23T00:00:00\",\"2024-10-25T00:00:00\",\"2024-10-27T00:00:00\",\"2024-10-28T00:00:00\",\"2024-10-29T00:00:00\",\"2024-10-31T00:00:00\",\"2024-11-01T00:00:00\",\"2024-11-02T00:00:00\",\"2024-11-04T00:00:00\",\"2024-11-05T00:00:00\",\"2024-11-06T00:00:00\",\"2024-11-07T00:00:00\",\"2024-11-08T00:00:00\",\"2024-11-09T00:00:00\",\"2024-11-10T00:00:00\",\"2024-11-11T00:00:00\",\"2024-11-13T00:00:00\",\"2024-11-14T00:00:00\",\"2024-11-15T00:00:00\",\"2024-11-16T00:00:00\",\"2024-11-17T00:00:00\",\"2024-11-18T00:00:00\",\"2024-11-19T00:00:00\",\"2024-11-20T00:00:00\",\"2024-11-22T00:00:00\",\"2024-11-23T00:00:00\",\"2024-11-24T00:00:00\",\"2024-11-26T00:00:00\",\"2024-11-27T00:00:00\",\"2024-11-29T00:00:00\",\"2024-11-30T00:00:00\",\"2024-12-01T00:00:00\",\"2024-12-02T00:00:00\",\"2024-12-03T00:00:00\",\"2024-12-04T00:00:00\",\"2024-12-05T00:00:00\",\"2024-12-06T00:00:00\",\"2024-12-07T00:00:00\",\"2024-12-08T00:00:00\",\"2024-12-09T00:00:00\",\"2024-12-11T00:00:00\",\"2024-12-13T00:00:00\",\"2024-12-14T00:00:00\",\"2024-12-15T00:00:00\",\"2024-12-17T00:00:00\",\"2024-12-19T00:00:00\",\"2024-12-20T00:00:00\",\"2024-12-21T00:00:00\",\"2024-12-22T00:00:00\",\"2024-12-23T00:00:00\",\"2024-12-24T00:00:00\",\"2024-12-25T00:00:00\",\"2024-12-26T00:00:00\",\"2024-12-29T00:00:00\",\"2024-12-31T00:00:00\"],\"y\":[23450.896500000003,87682.7084,14711.49,58141.84,37559.35,5574.324,5626.68,207967.0544,5768.6,244502.9117,14142.1145,205997.592,63217.445999999996,15450.506999999998,15807.302,3194.04,435837.19,69856.66,90550.41,194069.88059999997,105069.5952,30166.44,8427.78,79819.56,9983.8776,2890.6615,8272.14,10386.720000000001,152125.96,302250.44,1048739.7088000001,87540.93360000002,78797.87999999999,1301.02,20761.277000000002,605.9226,140023.75,10168.2555,58205.35,146517.98879999996,82891.0825,151883.5848,287884.8,26991.7632,418012.77,5334.03,265351.2965,1180.66,106055.61,27003.718,204450.09999999998,490338.2772,7854.66,877732.8988,264182.31,198780.31999999998,19437.194,469231.37,413455.194,103879.6815,17044.0846,200819.88999999998,10448.288999999999,582871.88,15888.51,179946.51,8664.408,232700.0956,43131.63,10405.376,4712.988,29169.138400000003,4920.45,431288.899,56488.42689999999,177776.58000000002,45517.106999999996,66886.7898,8024.88,5349.54,163097.44,432991.17600000004,282201.32,53279.244000000006,408857.6415,4242.156,223995.15,7898.660000000001,22891.96,198509.0384,185627.60300000003,82772.22,17373.78,114004.89199999999],\"type\":\"scatter\"},{\"line\":{\"dash\":\"dash\"},\"mode\":\"lines\",\"name\":\"Predicted Sales\",\"x\":[\"2024-09-01T00:00:00\",\"2024-09-02T00:00:00\",\"2024-09-03T00:00:00\",\"2024-09-05T00:00:00\",\"2024-09-06T00:00:00\",\"2024-09-08T00:00:00\",\"2024-09-09T00:00:00\",\"2024-09-10T00:00:00\",\"2024-09-11T00:00:00\",\"2024-09-12T00:00:00\",\"2024-09-13T00:00:00\",\"2024-09-15T00:00:00\",\"2024-09-16T00:00:00\",\"2024-09-17T00:00:00\",\"2024-09-18T00:00:00\",\"2024-09-19T00:00:00\",\"2024-09-22T00:00:00\",\"2024-09-25T00:00:00\",\"2024-09-26T00:00:00\",\"2024-09-27T00:00:00\",\"2024-09-28T00:00:00\",\"2024-09-29T00:00:00\",\"2024-09-30T00:00:00\",\"2024-10-02T00:00:00\",\"2024-10-03T00:00:00\",\"2024-10-04T00:00:00\",\"2024-10-05T00:00:00\",\"2024-10-06T00:00:00\",\"2024-10-08T00:00:00\",\"2024-10-10T00:00:00\",\"2024-10-11T00:00:00\",\"2024-10-12T00:00:00\",\"2024-10-14T00:00:00\",\"2024-10-15T00:00:00\",\"2024-10-16T00:00:00\",\"2024-10-17T00:00:00\",\"2024-10-18T00:00:00\",\"2024-10-20T00:00:00\",\"2024-10-22T00:00:00\",\"2024-10-23T00:00:00\",\"2024-10-25T00:00:00\",\"2024-10-27T00:00:00\",\"2024-10-28T00:00:00\",\"2024-10-29T00:00:00\",\"2024-10-31T00:00:00\",\"2024-11-01T00:00:00\",\"2024-11-02T00:00:00\",\"2024-11-04T00:00:00\",\"2024-11-05T00:00:00\",\"2024-11-06T00:00:00\",\"2024-11-07T00:00:00\",\"2024-11-08T00:00:00\",\"2024-11-09T00:00:00\",\"2024-11-10T00:00:00\",\"2024-11-11T00:00:00\",\"2024-11-13T00:00:00\",\"2024-11-14T00:00:00\",\"2024-11-15T00:00:00\",\"2024-11-16T00:00:00\",\"2024-11-17T00:00:00\",\"2024-11-18T00:00:00\",\"2024-11-19T00:00:00\",\"2024-11-20T00:00:00\",\"2024-11-22T00:00:00\",\"2024-11-23T00:00:00\",\"2024-11-24T00:00:00\",\"2024-11-26T00:00:00\",\"2024-11-27T00:00:00\",\"2024-11-29T00:00:00\",\"2024-11-30T00:00:00\",\"2024-12-01T00:00:00\",\"2024-12-02T00:00:00\",\"2024-12-03T00:00:00\",\"2024-12-04T00:00:00\",\"2024-12-05T00:00:00\",\"2024-12-06T00:00:00\",\"2024-12-07T00:00:00\",\"2024-12-08T00:00:00\",\"2024-12-09T00:00:00\",\"2024-12-11T00:00:00\",\"2024-12-13T00:00:00\",\"2024-12-14T00:00:00\",\"2024-12-15T00:00:00\",\"2024-12-17T00:00:00\",\"2024-12-19T00:00:00\",\"2024-12-20T00:00:00\",\"2024-12-21T00:00:00\",\"2024-12-22T00:00:00\",\"2024-12-23T00:00:00\",\"2024-12-24T00:00:00\",\"2024-12-25T00:00:00\",\"2024-12-26T00:00:00\",\"2024-12-29T00:00:00\",\"2024-12-31T00:00:00\"],\"y\":[155273.86,127646.37,127646.37,132358.62,129677.05,175537.17,149736.73,149736.73,150348.02,127473.664,140074.88,175537.17,126862.38,126862.38,127473.664,127473.664,175537.17,127473.664,127473.664,259519.86,199848.66,199848.66,170369.34,143529.98,141147.42,259519.86,180557.12,134558.5,125141.98,228742.9,269575.66,190612.92,155617.47,155617.47,208510.78,193958.31,269575.66,141720.12,171286.47,171286.47,232351.34,141720.12,171286.47,171286.47,156734.0,195868.72,141720.12,204437.97,201649.78,201649.78,187097.31,204455.83,161975.73,161975.73,189182.3,160538.06,148368.16,218315.98,261373.72,208533.62,225815.38,223027.2,183922.06,183050.53,149302.6,131727.95,96673.1,96673.1,96673.1,96673.1,96673.1,96673.1,96673.1,169306.77,132153.05,132153.05,105804.01,105804.01,105804.01,105804.01,105804.01,105804.01,105804.01,105804.01,105804.01,105804.01,105804.01,105804.01,105804.01,111352.08,153591.47,114703.31,114703.31,111352.08],\"type\":\"scatter\"}],                        {\"template\":{\"data\":{\"histogram2dcontour\":[{\"type\":\"histogram2dcontour\",\"colorbar\":{\"outlinewidth\":0,\"ticks\":\"\"},\"colorscale\":[[0.0,\"#0d0887\"],[0.1111111111111111,\"#46039f\"],[0.2222222222222222,\"#7201a8\"],[0.3333333333333333,\"#9c179e\"],[0.4444444444444444,\"#bd3786\"],[0.5555555555555556,\"#d8576b\"],[0.6666666666666666,\"#ed7953\"],[0.7777777777777778,\"#fb9f3a\"],[0.8888888888888888,\"#fdca26\"],[1.0,\"#f0f921\"]]}],\"choropleth\":[{\"type\":\"choropleth\",\"colorbar\":{\"outlinewidth\":0,\"ticks\":\"\"}}],\"histogram2d\":[{\"type\":\"histogram2d\",\"colorbar\":{\"outlinewidth\":0,\"ticks\":\"\"},\"colorscale\":[[0.0,\"#0d0887\"],[0.1111111111111111,\"#46039f\"],[0.2222222222222222,\"#7201a8\"],[0.3333333333333333,\"#9c179e\"],[0.4444444444444444,\"#bd3786\"],[0.5555555555555556,\"#d8576b\"],[0.6666666666666666,\"#ed7953\"],[0.7777777777777778,\"#fb9f3a\"],[0.8888888888888888,\"#fdca26\"],[1.0,\"#f0f921\"]]}],\"heatmap\":[{\"type\":\"heatmap\",\"colorbar\":{\"outlinewidth\":0,\"ticks\":\"\"},\"colorscale\":[[0.0,\"#0d0887\"],[0.1111111111111111,\"#46039f\"],[0.2222222222222222,\"#7201a8\"],[0.3333333333333333,\"#9c179e\"],[0.4444444444444444,\"#bd3786\"],[0.5555555555555556,\"#d8576b\"],[0.6666666666666666,\"#ed7953\"],[0.7777777777777778,\"#fb9f3a\"],[0.8888888888888888,\"#fdca26\"],[1.0,\"#f0f921\"]]}],\"heatmapgl\":[{\"type\":\"heatmapgl\",\"colorbar\":{\"outlinewidth\":0,\"ticks\":\"\"},\"colorscale\":[[0.0,\"#0d0887\"],[0.1111111111111111,\"#46039f\"],[0.2222222222222222,\"#7201a8\"],[0.3333333333333333,\"#9c179e\"],[0.4444444444444444,\"#bd3786\"],[0.5555555555555556,\"#d8576b\"],[0.6666666666666666,\"#ed7953\"],[0.7777777777777778,\"#fb9f3a\"],[0.8888888888888888,\"#fdca26\"],[1.0,\"#f0f921\"]]}],\"contourcarpet\":[{\"type\":\"contourcarpet\",\"colorbar\":{\"outlinewidth\":0,\"ticks\":\"\"}}],\"contour\":[{\"type\":\"contour\",\"colorbar\":{\"outlinewidth\":0,\"ticks\":\"\"},\"colorscale\":[[0.0,\"#0d0887\"],[0.1111111111111111,\"#46039f\"],[0.2222222222222222,\"#7201a8\"],[0.3333333333333333,\"#9c179e\"],[0.4444444444444444,\"#bd3786\"],[0.5555555555555556,\"#d8576b\"],[0.6666666666666666,\"#ed7953\"],[0.7777777777777778,\"#fb9f3a\"],[0.8888888888888888,\"#fdca26\"],[1.0,\"#f0f921\"]]}],\"surface\":[{\"type\":\"surface\",\"colorbar\":{\"outlinewidth\":0,\"ticks\":\"\"},\"colorscale\":[[0.0,\"#0d0887\"],[0.1111111111111111,\"#46039f\"],[0.2222222222222222,\"#7201a8\"],[0.3333333333333333,\"#9c179e\"],[0.4444444444444444,\"#bd3786\"],[0.5555555555555556,\"#d8576b\"],[0.6666666666666666,\"#ed7953\"],[0.7777777777777778,\"#fb9f3a\"],[0.8888888888888888,\"#fdca26\"],[1.0,\"#f0f921\"]]}],\"mesh3d\":[{\"type\":\"mesh3d\",\"colorbar\":{\"outlinewidth\":0,\"ticks\":\"\"}}],\"scatter\":[{\"fillpattern\":{\"fillmode\":\"overlay\",\"size\":10,\"solidity\":0.2},\"type\":\"scatter\"}],\"parcoords\":[{\"type\":\"parcoords\",\"line\":{\"colorbar\":{\"outlinewidth\":0,\"ticks\":\"\"}}}],\"scatterpolargl\":[{\"type\":\"scatterpolargl\",\"marker\":{\"colorbar\":{\"outlinewidth\":0,\"ticks\":\"\"}}}],\"bar\":[{\"error_x\":{\"color\":\"#2a3f5f\"},\"error_y\":{\"color\":\"#2a3f5f\"},\"marker\":{\"line\":{\"color\":\"#E5ECF6\",\"width\":0.5},\"pattern\":{\"fillmode\":\"overlay\",\"size\":10,\"solidity\":0.2}},\"type\":\"bar\"}],\"scattergeo\":[{\"type\":\"scattergeo\",\"marker\":{\"colorbar\":{\"outlinewidth\":0,\"ticks\":\"\"}}}],\"scatterpolar\":[{\"type\":\"scatterpolar\",\"marker\":{\"colorbar\":{\"outlinewidth\":0,\"ticks\":\"\"}}}],\"histogram\":[{\"marker\":{\"pattern\":{\"fillmode\":\"overlay\",\"size\":10,\"solidity\":0.2}},\"type\":\"histogram\"}],\"scattergl\":[{\"type\":\"scattergl\",\"marker\":{\"colorbar\":{\"outlinewidth\":0,\"ticks\":\"\"}}}],\"scatter3d\":[{\"type\":\"scatter3d\",\"line\":{\"colorbar\":{\"outlinewidth\":0,\"ticks\":\"\"}},\"marker\":{\"colorbar\":{\"outlinewidth\":0,\"ticks\":\"\"}}}],\"scattermapbox\":[{\"type\":\"scattermapbox\",\"marker\":{\"colorbar\":{\"outlinewidth\":0,\"ticks\":\"\"}}}],\"scatterternary\":[{\"type\":\"scatterternary\",\"marker\":{\"colorbar\":{\"outlinewidth\":0,\"ticks\":\"\"}}}],\"scattercarpet\":[{\"type\":\"scattercarpet\",\"marker\":{\"colorbar\":{\"outlinewidth\":0,\"ticks\":\"\"}}}],\"carpet\":[{\"aaxis\":{\"endlinecolor\":\"#2a3f5f\",\"gridcolor\":\"white\",\"linecolor\":\"white\",\"minorgridcolor\":\"white\",\"startlinecolor\":\"#2a3f5f\"},\"baxis\":{\"endlinecolor\":\"#2a3f5f\",\"gridcolor\":\"white\",\"linecolor\":\"white\",\"minorgridcolor\":\"white\",\"startlinecolor\":\"#2a3f5f\"},\"type\":\"carpet\"}],\"table\":[{\"cells\":{\"fill\":{\"color\":\"#EBF0F8\"},\"line\":{\"color\":\"white\"}},\"header\":{\"fill\":{\"color\":\"#C8D4E3\"},\"line\":{\"color\":\"white\"}},\"type\":\"table\"}],\"barpolar\":[{\"marker\":{\"line\":{\"color\":\"#E5ECF6\",\"width\":0.5},\"pattern\":{\"fillmode\":\"overlay\",\"size\":10,\"solidity\":0.2}},\"type\":\"barpolar\"}],\"pie\":[{\"automargin\":true,\"type\":\"pie\"}]},\"layout\":{\"autotypenumbers\":\"strict\",\"colorway\":[\"#636efa\",\"#EF553B\",\"#00cc96\",\"#ab63fa\",\"#FFA15A\",\"#19d3f3\",\"#FF6692\",\"#B6E880\",\"#FF97FF\",\"#FECB52\"],\"font\":{\"color\":\"#2a3f5f\"},\"hovermode\":\"closest\",\"hoverlabel\":{\"align\":\"left\"},\"paper_bgcolor\":\"white\",\"plot_bgcolor\":\"#E5ECF6\",\"polar\":{\"bgcolor\":\"#E5ECF6\",\"angularaxis\":{\"gridcolor\":\"white\",\"linecolor\":\"white\",\"ticks\":\"\"},\"radialaxis\":{\"gridcolor\":\"white\",\"linecolor\":\"white\",\"ticks\":\"\"}},\"ternary\":{\"bgcolor\":\"#E5ECF6\",\"aaxis\":{\"gridcolor\":\"white\",\"linecolor\":\"white\",\"ticks\":\"\"},\"baxis\":{\"gridcolor\":\"white\",\"linecolor\":\"white\",\"ticks\":\"\"},\"caxis\":{\"gridcolor\":\"white\",\"linecolor\":\"white\",\"ticks\":\"\"}},\"coloraxis\":{\"colorbar\":{\"outlinewidth\":0,\"ticks\":\"\"}},\"colorscale\":{\"sequential\":[[0.0,\"#0d0887\"],[0.1111111111111111,\"#46039f\"],[0.2222222222222222,\"#7201a8\"],[0.3333333333333333,\"#9c179e\"],[0.4444444444444444,\"#bd3786\"],[0.5555555555555556,\"#d8576b\"],[0.6666666666666666,\"#ed7953\"],[0.7777777777777778,\"#fb9f3a\"],[0.8888888888888888,\"#fdca26\"],[1.0,\"#f0f921\"]],\"sequentialminus\":[[0.0,\"#0d0887\"],[0.1111111111111111,\"#46039f\"],[0.2222222222222222,\"#7201a8\"],[0.3333333333333333,\"#9c179e\"],[0.4444444444444444,\"#bd3786\"],[0.5555555555555556,\"#d8576b\"],[0.6666666666666666,\"#ed7953\"],[0.7777777777777778,\"#fb9f3a\"],[0.8888888888888888,\"#fdca26\"],[1.0,\"#f0f921\"]],\"diverging\":[[0,\"#8e0152\"],[0.1,\"#c51b7d\"],[0.2,\"#de77ae\"],[0.3,\"#f1b6da\"],[0.4,\"#fde0ef\"],[0.5,\"#f7f7f7\"],[0.6,\"#e6f5d0\"],[0.7,\"#b8e186\"],[0.8,\"#7fbc41\"],[0.9,\"#4d9221\"],[1,\"#276419\"]]},\"xaxis\":{\"gridcolor\":\"white\",\"linecolor\":\"white\",\"ticks\":\"\",\"title\":{\"standoff\":15},\"zerolinecolor\":\"white\",\"automargin\":true,\"zerolinewidth\":2},\"yaxis\":{\"gridcolor\":\"white\",\"linecolor\":\"white\",\"ticks\":\"\",\"title\":{\"standoff\":15},\"zerolinecolor\":\"white\",\"automargin\":true,\"zerolinewidth\":2},\"scene\":{\"xaxis\":{\"backgroundcolor\":\"#E5ECF6\",\"gridcolor\":\"white\",\"linecolor\":\"white\",\"showbackground\":true,\"ticks\":\"\",\"zerolinecolor\":\"white\",\"gridwidth\":2},\"yaxis\":{\"backgroundcolor\":\"#E5ECF6\",\"gridcolor\":\"white\",\"linecolor\":\"white\",\"showbackground\":true,\"ticks\":\"\",\"zerolinecolor\":\"white\",\"gridwidth\":2},\"zaxis\":{\"backgroundcolor\":\"#E5ECF6\",\"gridcolor\":\"white\",\"linecolor\":\"white\",\"showbackground\":true,\"ticks\":\"\",\"zerolinecolor\":\"white\",\"gridwidth\":2}},\"shapedefaults\":{\"line\":{\"color\":\"#2a3f5f\"}},\"annotationdefaults\":{\"arrowcolor\":\"#2a3f5f\",\"arrowhead\":0,\"arrowwidth\":1},\"geo\":{\"bgcolor\":\"white\",\"landcolor\":\"#E5ECF6\",\"subunitcolor\":\"white\",\"showland\":true,\"showlakes\":true,\"lakecolor\":\"white\"},\"title\":{\"x\":0.05},\"mapbox\":{\"style\":\"light\"}}},\"title\":{\"text\":\"Actual vs. Predicted Sales Forecast\"},\"xaxis\":{\"title\":{\"text\":\"Date\"}},\"yaxis\":{\"title\":{\"text\":\"Sales (INR)\"}}},                        {\"responsive\": true}                    ).then(function(){\n",
              "                            \n",
              "var gd = document.getElementById('5d5c73e0-b2ed-4668-bb66-641171bebe68');\n",
              "var x = new MutationObserver(function (mutations, observer) {{\n",
              "        var display = window.getComputedStyle(gd).display;\n",
              "        if (!display || display === 'none') {{\n",
              "            console.log([gd, 'removed!']);\n",
              "            Plotly.purge(gd);\n",
              "            observer.disconnect();\n",
              "        }}\n",
              "}});\n",
              "\n",
              "// Listen for the removal of the full notebook cells\n",
              "var notebookContainer = gd.closest('#notebook-container');\n",
              "if (notebookContainer) {{\n",
              "    x.observe(notebookContainer, {childList: true});\n",
              "}}\n",
              "\n",
              "// Listen for the clearing of the current output cell\n",
              "var outputEl = gd.closest('.output');\n",
              "if (outputEl) {{\n",
              "    x.observe(outputEl, {childList: true});\n",
              "}}\n",
              "\n",
              "                        })                };                            </script>        </div>\n",
              "</body>\n",
              "</html>"
            ]
          },
          "metadata": {}
        }
      ]
    },
    {
      "cell_type": "code",
      "source": [
        "from google.colab import drive\n",
        "drive.mount('/content/drive')"
      ],
      "metadata": {
        "colab": {
          "base_uri": "https://localhost:8080/"
        },
        "id": "hKV6cT7xOCjG",
        "outputId": "b672e214-5b84-47a6-f7fa-b165911cb41b"
      },
      "execution_count": 1,
      "outputs": [
        {
          "output_type": "stream",
          "name": "stdout",
          "text": [
            "Mounted at /content/drive\n"
          ]
        }
      ]
    }
  ]
}